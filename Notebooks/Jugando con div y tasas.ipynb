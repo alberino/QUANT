{
 "cells": [
  {
   "cell_type": "markdown",
   "metadata": {},
   "source": [
    "# Quant Finance - Clase 2"
   ]
  },
  {
   "cell_type": "code",
   "execution_count": 1,
   "metadata": {},
   "outputs": [
    {
     "ename": "ModuleNotFoundError",
     "evalue": "No module named 'Codigo.data_nyse'",
     "output_type": "error",
     "traceback": [
      "\u001b[1;31m---------------------------------------------------------------------------\u001b[0m",
      "\u001b[1;31mModuleNotFoundError\u001b[0m                       Traceback (most recent call last)",
      "\u001b[1;32mc:\\Users\\manue\\Google Drive\\Docencia Posgrado\\2018-present UCEMA\\2021\\Modulo Derivados Financieros\\Python\\Jugando con div y tasas.ipynb Cell 2'\u001b[0m in \u001b[0;36m<cell line: 6>\u001b[1;34m()\u001b[0m\n\u001b[0;32m      <a href='vscode-notebook-cell:/c%3A/Users/manue/Google%20Drive/Docencia%20Posgrado/2018-present%20UCEMA/2021/Modulo%20Derivados%20Financieros/Python/Jugando%20con%20div%20y%20tasas.ipynb#ch0000001?line=2'>3</a>\u001b[0m \u001b[39mimport\u001b[39;00m \u001b[39msys\u001b[39;00m\n\u001b[0;32m      <a href='vscode-notebook-cell:/c%3A/Users/manue/Google%20Drive/Docencia%20Posgrado/2018-present%20UCEMA/2021/Modulo%20Derivados%20Financieros/Python/Jugando%20con%20div%20y%20tasas.ipynb#ch0000001?line=3'>4</a>\u001b[0m sys\u001b[39m.\u001b[39mpath\u001b[39m.\u001b[39mappend(\u001b[39m'\u001b[39m\u001b[39m..\u001b[39m\u001b[39m'\u001b[39m)\n\u001b[1;32m----> <a href='vscode-notebook-cell:/c%3A/Users/manue/Google%20Drive/Docencia%20Posgrado/2018-present%20UCEMA/2021/Modulo%20Derivados%20Financieros/Python/Jugando%20con%20div%20y%20tasas.ipynb#ch0000001?line=5'>6</a>\u001b[0m \u001b[39mfrom\u001b[39;00m \u001b[39mCodigo\u001b[39;00m\u001b[39m.\u001b[39;00m\u001b[39mdata_nyse\u001b[39;00m \u001b[39mimport\u001b[39;00m \u001b[39m*\u001b[39m\n\u001b[0;32m      <a href='vscode-notebook-cell:/c%3A/Users/manue/Google%20Drive/Docencia%20Posgrado/2018-present%20UCEMA/2021/Modulo%20Derivados%20Financieros/Python/Jugando%20con%20div%20y%20tasas.ipynb#ch0000001?line=7'>8</a>\u001b[0m \u001b[39mimport\u001b[39;00m \u001b[39myfinance\u001b[39;00m \u001b[39mas\u001b[39;00m \u001b[39myf\u001b[39;00m\n\u001b[0;32m      <a href='vscode-notebook-cell:/c%3A/Users/manue/Google%20Drive/Docencia%20Posgrado/2018-present%20UCEMA/2021/Modulo%20Derivados%20Financieros/Python/Jugando%20con%20div%20y%20tasas.ipynb#ch0000001?line=8'>9</a>\u001b[0m \u001b[39mimport\u001b[39;00m \u001b[39mdatetime\u001b[39;00m\n",
      "\u001b[1;31mModuleNotFoundError\u001b[0m: No module named 'Codigo.data_nyse'"
     ]
    }
   ],
   "source": [
    "### Importo los modulos\n",
    "\n",
    "import sys\n",
    "sys.path.append('..')\n",
    "\n",
    "from Codigo.data_nyse import *\n",
    "\n",
    "import yfinance as yf\n",
    "import datetime"
   ]
  },
  {
   "cell_type": "code",
   "execution_count": 23,
   "metadata": {},
   "outputs": [],
   "source": [
    "panel_opciones_FB = obtener_panel_opciones_nyse('FB', True)\n"
   ]
  },
  {
   "cell_type": "code",
   "execution_count": 38,
   "metadata": {},
   "outputs": [],
   "source": [
    "panel_opciones_FB['PrecioAvg'] = (panel_opciones_FB.Bid + panel_opciones_FB.Ask)/2\n",
    "panel_opciones_FB_calls = panel_opciones_FB[panel_opciones_FB.CallPut=='C']\n",
    "panel_opciones_FB_puts = panel_opciones_FB[panel_opciones_FB.CallPut=='P']\n",
    "\n",
    "panel_opciones_FB_reg = panel_opciones_FB_calls.copy()\n",
    "\n",
    "panel_opciones_FB_reg['Put_menos_Call'] = 0.0\n"
   ]
  },
  {
   "cell_type": "code",
   "execution_count": 62,
   "metadata": {},
   "outputs": [
    {
     "name": "stdout",
     "output_type": "stream",
     "text": [
      "{290, 3, 38, 199, 136, 745, 10, 171, 108, 45, 654, 80, 17, 24, 507, 318, 31}\n"
     ]
    }
   ],
   "source": [
    "print(set(panel_opciones_FB_reg.TTM.values))\n"
   ]
  },
  {
   "cell_type": "code",
   "execution_count": null,
   "metadata": {},
   "outputs": [],
   "source": [
    "for idx in panel_opciones_FB_reg.index:\n",
    "    try:\n",
    "        panel_opciones_FB_reg['Put_menos_Call'].values[idx] = panel_opciones_FB_puts[(panel_opciones_FB_puts.Strike == panel_opciones_FB_reg.Strike.values[idx]) & (panel_opciones_FB_puts.TTM == panel_opciones_FB_reg.TTM.values[idx])].PrecioAvg.values[0] - panel_opciones_FB_reg['PrecioAvg'].values[idx]\n",
    "    except:\n",
    "        panel_opciones_FB_reg['Put_menos_Call'].values[idx] = -99.9\n",
    "            \n",
    "\n",
    "panel_opciones_FB_reg = panel_opciones_FB_reg.dropna()\n",
    "\n",
    "panel_opciones_FB_reg"
   ]
  },
  {
   "cell_type": "markdown",
   "metadata": {},
   "source": [
    "En el caso de una Europea con tasa de dividendos div: $$C(0)=P(0) + S(0)e^{-divT} - K e^{-rT}$$ \n",
    "\n"
   ]
  },
  {
   "cell_type": "code",
   "execution_count": 64,
   "metadata": {},
   "outputs": [
    {
     "name": "stdout",
     "output_type": "stream",
     "text": [
      "0.25275104877458954\n",
      "1.037842203208205\n"
     ]
    }
   ],
   "source": [
    "import statsmodels.api as sm\n",
    "import pandas as pd\n",
    "3\n",
    "panel_opciones_FB_reg_TTM =  panel_opciones_FB_reg[panel_opciones_FB_reg.TTM==mat]\n",
    "\n",
    "X = panel_opciones_FB_reg_TTM[['Strike','Spot']] # here we have 2 variables for multiple regression. If you just want to use one variable for simple linear regression, then use X = df['Interest_Rate'] for example.Alternatively, you may add additional variables within the brackets\n",
    "Y = panel_opciones_FB_reg_TTM['Put_menos_Call']\n",
    " \n",
    "# with sklearn\n",
    "regr = linear_model.LinearRegression()\n",
    "regr.fit(X, Y)\n",
    "\n",
    "model = sm.OLS(Y, X).fit()\n",
    "predictions = model.predict(X) \n",
    " \n",
    "print_model = model.summary()\n",
    "#print(print_model)\n",
    "\n",
    "\n",
    "a = model.params[0]\n",
    "b = - model.params[1]\n",
    "\n",
    "import math\n",
    "r = math.log(1/a)/(mat/365)\n",
    "div = math.log(1/b)/(mat/365)\n",
    "\n",
    "\n",
    "print(a)\n",
    "\n",
    "print(div)\n",
    "\n",
    "#a=exp(-rT) \n",
    "#b = exp(-divT)\n",
    "\n",
    "#la P-C parity queda lineal en a y b:\n",
    "\n",
    "#P-C = K a - b S \n",
    "\n",
    "#Missing['Price']=np.where(\n",
    "#    Missing['MissingOption']== 'C', \n",
    "#    Missing['Spot']*np.exp(-div*Missing['TTM']/365)-Missing['Strike']*np.exp(-r*Missing['TTM']/365)+Missing['Last'],\n",
    "#    Missing['Strike']*np.exp(-r*Missing['TTM']/365)-Missing['Spot']*np.exp(-div*Missing['TTM']/365)+Missing['Last'])"
   ]
  },
  {
   "cell_type": "markdown",
   "metadata": {},
   "source": [
    "## Ploteando los datos"
   ]
  },
  {
   "cell_type": "markdown",
   "metadata": {},
   "source": [
    "### Para cada vencimiento, grafico los strikes"
   ]
  },
  {
   "cell_type": "code",
   "execution_count": null,
   "metadata": {},
   "outputs": [],
   "source": [
    "\n",
    "\n",
    "TTMs = list(set(panel_opciones_ggal_nyse_limpio.TTM.values))\n",
    "TTMs"
   ]
  },
  {
   "cell_type": "code",
   "execution_count": null,
   "metadata": {},
   "outputs": [],
   "source": [
    "TTM = 23\n",
    "panel_opciones_ggal_nyse_limpio[(panel_opciones_ggal_nyse_limpio.TTM == TTM) & (panel_opciones_ggal_nyse_limpio.CallPut == \"C\")].head(10)"
   ]
  },
  {
   "cell_type": "code",
   "execution_count": null,
   "metadata": {},
   "outputs": [],
   "source": [
    "from matplotlib import pyplot as plt\n",
    "CP = \"C\"\n",
    "for TTM in TTMs:\n",
    "    Ks = panel_opciones_ggal_nyse_limpio[(panel_opciones_ggal_nyse_limpio.TTM == TTM) & (panel_opciones_ggal_nyse_limpio.CallPut == CP)].Strike.values\n",
    "    precios = panel_opciones_ggal_nyse_limpio[(panel_opciones_ggal_nyse_limpio.TTM == TTM) & (panel_opciones_ggal_nyse_limpio.CallPut == CP)].Last.values\n",
    "    ## Last VS (B+A)/2\n",
    "    plt.plot(Ks, precios,'*', label='TTM = '+str(TTM))\n",
    "\n",
    "\n",
    "plt.legend()\n",
    "\n",
    "plt.xlabel('Strike')\n",
    "plt.ylabel('Precio de mercado del Call')\n",
    "plt.title('Precio de mercado de las opciones Call con respecto al Strike')\n",
    "    \n",
    "plt.show()\n",
    "    "
   ]
  },
  {
   "cell_type": "code",
   "execution_count": null,
   "metadata": {},
   "outputs": [],
   "source": [
    "\n",
    "CP = \"P\"\n",
    "for TTM in TTMs:\n",
    "    Ks = panel_opciones_ggal_nyse_limpio[(panel_opciones_ggal_nyse_limpio.TTM == TTM) & (panel_opciones_ggal_nyse_limpio.CallPut == CP)].Strike.values\n",
    "    precios = panel_opciones_ggal_nyse_limpio[(panel_opciones_ggal_nyse_limpio.TTM == TTM) & (panel_opciones_ggal_nyse_limpio.CallPut == CP)].Last.values\n",
    "    plt.plot(Ks, precios,'*', label='TTM = '+str(TTM))\n",
    "\n",
    "\n",
    "plt.legend()\n",
    "\n",
    "plt.xlabel('Strike')\n",
    "plt.ylabel('Precio de mercado del Call')\n",
    "plt.title('Precio de mercado de las opciones Call con respecto al Strike')\n",
    "    \n",
    "plt.show()"
   ]
  },
  {
   "cell_type": "markdown",
   "metadata": {},
   "source": [
    "### Para cada strike, grafico los TTM"
   ]
  },
  {
   "cell_type": "code",
   "execution_count": null,
   "metadata": {},
   "outputs": [],
   "source": [
    "Ks = list(set(panel_opciones_ggal_nyse_limpio.Strike.values))"
   ]
  },
  {
   "cell_type": "code",
   "execution_count": null,
   "metadata": {},
   "outputs": [],
   "source": [
    "from matplotlib import pyplot as plt\n",
    "CP = \"C\"\n",
    "for K in Ks:\n",
    "    TTMs = panel_opciones_ggal_nyse_limpio[(panel_opciones_ggal_nyse_limpio.Strike == K) & (panel_opciones_ggal_nyse_limpio.CallPut == CP)].Strike.values\n",
    "    precios = panel_opciones_ggal_nyse_limpio[(panel_opciones_ggal_nyse_limpio.Strike == K) & (panel_opciones_ggal_nyse_limpio.CallPut == CP)].Last.values\n",
    "    if len(TTMs)>1:\n",
    "        plt.plot(TTMs, precios,'*', label='Strike = '+str(K))\n",
    "\n",
    "plt.legend()\n",
    "\n",
    "plt.xlabel('TTM')\n",
    "plt.ylabel('Precio de mercado del Call')\n",
    "plt.title('Precio de mercado de las opciones Call con respecto al TTM')\n",
    "    \n",
    "plt.show()\n",
    "    "
   ]
  },
  {
   "cell_type": "markdown",
   "metadata": {},
   "source": [
    "## Ploteando los datos con un ticker mega liquido"
   ]
  },
  {
   "cell_type": "code",
   "execution_count": null,
   "metadata": {},
   "outputs": [],
   "source": [
    "# NYSE AAPL\n",
    "ticker = 'AAPL'\n",
    "panel_opciones_nyse_limpio = obtener_panel_opciones_nyse(ticker, True)\n",
    "\n",
    "TTMs = list(set(panel_opciones_nyse_limpio.TTM.values))\n",
    "TTMs.sort()\n",
    "TTMs"
   ]
  },
  {
   "cell_type": "code",
   "execution_count": null,
   "metadata": {},
   "outputs": [],
   "source": [
    "\n",
    "from matplotlib import pyplot as plt\n",
    "CP = \"C\"\n",
    "for TTM in TTMs[0:5]:\n",
    "    Ks = panel_opciones_nyse_limpio[(panel_opciones_nyse_limpio.TTM == TTM) & (panel_opciones_nyse_limpio.CallPut == CP)].Strike.values\n",
    "    precios = panel_opciones_nyse_limpio[(panel_opciones_nyse_limpio.TTM == TTM) & (panel_opciones_nyse_limpio.CallPut == CP)].Last.values\n",
    "    plt.plot(Ks, precios, '.',label='TTM = '+str(TTM))\n",
    "\n",
    "\n",
    "plt.legend()\n",
    "\n",
    "plt.xlabel('Strike')\n",
    "plt.ylabel('Precio de mercado del Call')\n",
    "plt.title('Precio de mercado de las opciones Call con respecto al Strike')\n",
    "    \n",
    "plt.show()\n",
    "    "
   ]
  },
  {
   "cell_type": "code",
   "execution_count": null,
   "metadata": {},
   "outputs": [],
   "source": [
    "\n",
    "from matplotlib import pyplot as plt\n",
    "CP = \"C\"\n",
    "for TTM in TTMs[5:11]:\n",
    "    Ks = panel_opciones_nyse_limpio[(panel_opciones_nyse_limpio.TTM == TTM) & (panel_opciones_nyse_limpio.CallPut == CP)].Strike.values\n",
    "    precios = panel_opciones_nyse_limpio[(panel_opciones_nyse_limpio.TTM == TTM) & (panel_opciones_nyse_limpio.CallPut == CP)].Last.values\n",
    "    plt.plot(Ks, precios, '.',label='TTM = '+str(TTM))\n",
    "\n",
    "\n",
    "plt.legend()\n",
    "\n",
    "plt.xlabel('Strike')\n",
    "plt.ylabel('Precio de mercado del Call')\n",
    "plt.title('Precio de mercado de las opciones Call con respecto al Strike')\n",
    "    \n",
    "plt.show()\n",
    "    "
   ]
  },
  {
   "cell_type": "code",
   "execution_count": null,
   "metadata": {},
   "outputs": [],
   "source": [
    "\n",
    "from matplotlib import pyplot as plt\n",
    "CP = \"C\"\n",
    "for TTM in TTMs[11:17]:\n",
    "    Ks = panel_opciones_nyse_limpio[(panel_opciones_nyse_limpio.TTM == TTM) & (panel_opciones_nyse_limpio.CallPut == CP)].Strike.values\n",
    "    precios = panel_opciones_nyse_limpio[(panel_opciones_nyse_limpio.TTM == TTM) & (panel_opciones_nyse_limpio.CallPut == CP)].Last.values\n",
    "    plt.plot(Ks, precios,'.',label='TTM = '+str(TTM))\n",
    "\n",
    "\n",
    "plt.legend()\n",
    "\n",
    "plt.xlabel('Strike')\n",
    "plt.ylabel('Precio de mercado del Call')\n",
    "plt.title('Precio de mercado de las opciones Call con respecto al Strike')\n",
    "    \n",
    "plt.show()\n",
    "    "
   ]
  },
  {
   "cell_type": "code",
   "execution_count": null,
   "metadata": {},
   "outputs": [],
   "source": [
    "from matplotlib import pyplot as plt\n",
    "CP = \"P\"\n",
    "for TTM in TTMs[0:5]:\n",
    "    Ks = panel_opciones_nyse_limpio[(panel_opciones_nyse_limpio.TTM == TTM) & (panel_opciones_nyse_limpio.CallPut == CP)].Strike.values\n",
    "    precios = panel_opciones_nyse_limpio[(panel_opciones_nyse_limpio.TTM == TTM) & (panel_opciones_nyse_limpio.CallPut == CP)].Last.values\n",
    "    plt.plot(Ks, precios, '.',label='TTM = '+str(TTM))\n",
    "\n",
    "\n",
    "plt.legend()\n",
    "\n",
    "plt.xlabel('Strike')\n",
    "plt.ylabel('Precio de mercado del Put')\n",
    "plt.title('Precio de mercado de las opciones Put con respecto al Strike')\n",
    "    \n",
    "plt.show()\n",
    "    "
   ]
  },
  {
   "cell_type": "code",
   "execution_count": null,
   "metadata": {},
   "outputs": [],
   "source": [
    "from matplotlib import pyplot as plt\n",
    "CP = \"P\"\n",
    "for TTM in TTMs[5:11]:\n",
    "    Ks = panel_opciones_nyse_limpio[(panel_opciones_nyse_limpio.TTM == TTM) & (panel_opciones_nyse_limpio.CallPut == CP)].Strike.values\n",
    "    precios = panel_opciones_nyse_limpio[(panel_opciones_nyse_limpio.TTM == TTM) & (panel_opciones_nyse_limpio.CallPut == CP)].Last.values\n",
    "    plt.plot(Ks, precios, '.',label='TTM = '+str(TTM))\n",
    "\n",
    "\n",
    "plt.legend()\n",
    "\n",
    "plt.xlabel('Strike')\n",
    "plt.ylabel('Precio de mercado del Put')\n",
    "plt.title('Precio de mercado de las opciones Put con respecto al Strike')\n",
    "    \n",
    "plt.show()\n",
    "    "
   ]
  },
  {
   "cell_type": "code",
   "execution_count": null,
   "metadata": {},
   "outputs": [],
   "source": [
    "from matplotlib import pyplot as plt\n",
    "CP = \"P\"\n",
    "for TTM in TTMs[11:17]:\n",
    "    Ks = panel_opciones_nyse_limpio[(panel_opciones_nyse_limpio.TTM == TTM) & (panel_opciones_nyse_limpio.CallPut == CP)].Strike.values\n",
    "    precios = panel_opciones_nyse_limpio[(panel_opciones_nyse_limpio.TTM == TTM) & (panel_opciones_nyse_limpio.CallPut == CP)].Last.values\n",
    "    plt.plot(Ks, precios, '.',label='TTM = '+str(TTM))\n",
    "\n",
    "\n",
    "plt.legend()\n",
    "\n",
    "plt.xlabel('Strike')\n",
    "plt.ylabel('Precio de mercado del Put')\n",
    "plt.title('Precio de mercado de las opciones Put con respecto al Strike')\n",
    "    \n",
    "plt.show()\n",
    "    "
   ]
  },
  {
   "cell_type": "code",
   "execution_count": null,
   "metadata": {},
   "outputs": [],
   "source": [
    "Ks = list(set(panel_opciones_nyse_limpio.Strike.values))\n",
    "Ks.sort()\n",
    "len(Ks)"
   ]
  },
  {
   "cell_type": "code",
   "execution_count": null,
   "metadata": {},
   "outputs": [],
   "source": [
    "from matplotlib import pyplot as plt\n",
    "CP = \"C\"\n",
    "for K in Ks[45:55]:\n",
    "    TTMs = panel_opciones_nyse_limpio[(panel_opciones_nyse_limpio.Strike == K) & (panel_opciones_nyse_limpio.CallPut == CP)].Strike.values\n",
    "    precios = panel_opciones_nyse_limpio[(panel_opciones_nyse_limpio.Strike == K) & (panel_opciones_nyse_limpio.CallPut == CP)].Last.values\n",
    "    if len(TTMs)>1:\n",
    "        plt.plot(TTMs, precios,'*', label='Strike = '+str(K))\n",
    "\n",
    "plt.legend()\n",
    "\n",
    "plt.xlabel('TTM')\n",
    "plt.ylabel('Precio de mercado del Call')\n",
    "plt.title('Precio de mercado de las opciones Call con respecto al TTM')\n",
    "    \n",
    "plt.show()"
   ]
  },
  {
   "cell_type": "code",
   "execution_count": null,
   "metadata": {},
   "outputs": [],
   "source": [
    "from matplotlib import pyplot as plt\n",
    "CP = \"P\"\n",
    "for K in Ks[100:]:\n",
    "    TTMs = panel_opciones_nyse_limpio[(panel_opciones_nyse_limpio.Strike == K) & (panel_opciones_nyse_limpio.CallPut == CP)].Strike.values\n",
    "    precios = panel_opciones_nyse_limpio[(panel_opciones_nyse_limpio.Strike == K) & (panel_opciones_nyse_limpio.CallPut == CP)].Last.values\n",
    "    if len(TTMs)>1:\n",
    "        plt.plot(TTMs, precios,'*', label='Strike = '+str(K))\n",
    "\n",
    "plt.legend()\n",
    "\n",
    "plt.xlabel('TTM')\n",
    "plt.ylabel('Precio de mercado del Put')\n",
    "plt.title('Precio de mercado de las opciones Put con respecto al TTM')\n",
    "    \n",
    "plt.show()"
   ]
  },
  {
   "cell_type": "markdown",
   "metadata": {},
   "source": [
    "## Pasar a Excel"
   ]
  },
  {
   "cell_type": "code",
   "execution_count": null,
   "metadata": {},
   "outputs": [],
   "source": [
    "panel_opciones_ggal_nyse_crudo = obtener_panel_opciones_nyse('GGAL', False)\n",
    "panel_opciones_ggal_nyse_crudo.to_excel('Clase_2_panel_opciones_ggal_nyse_crudo.xls')\n",
    "\n",
    "panel_opciones_ggal_nyse_limpio = obtener_panel_opciones_nyse('GGAL', True)\n",
    "panel_opciones_ggal_nyse_limpio.to_excel('Clase_2_panel_opciones_ggal_nyse_limpio.xls')\n",
    "\n",
    "\n",
    "panel_opciones_aapl_nyse_limpio = obtener_panel_opciones_nyse('AAPL', True)\n",
    "panel_opciones_aapl_nyse_limpio.to_excel('Clase_2_panel_opciones_aapl_nyse_limpio.xls')                                                \n",
    "         "
   ]
  },
  {
   "cell_type": "markdown",
   "metadata": {},
   "source": [
    "## Extras vistas en clase"
   ]
  },
  {
   "cell_type": "code",
   "execution_count": null,
   "metadata": {},
   "outputs": [],
   "source": [
    "TTMs = list(set(panel_opciones_nyse_limpio.TTM.values))\n",
    "TTMs.sort()\n"
   ]
  },
  {
   "cell_type": "markdown",
   "metadata": {},
   "source": [
    "### Plot de Volatilidades Implicitas dadas por Yahoo Finances"
   ]
  },
  {
   "cell_type": "code",
   "execution_count": null,
   "metadata": {},
   "outputs": [],
   "source": [
    "\n",
    "from matplotlib import pyplot as plt\n",
    "CP = \"C\"\n",
    "for TTM in TTMs[0:3]:\n",
    "    Ks = panel_opciones_nyse_limpio[(panel_opciones_nyse_limpio.TTM == TTM) & (panel_opciones_nyse_limpio.CallPut == CP)].Strike.values\n",
    "    iv = panel_opciones_nyse_limpio[(panel_opciones_nyse_limpio.TTM == TTM) & (panel_opciones_nyse_limpio.CallPut == CP)].impliedVolatility.values\n",
    "    plt.plot(Ks, iv, '.',label='TTM = '+str(TTM))\n",
    "\n",
    "\n",
    "plt.legend()\n",
    "\n",
    "plt.xlabel('Strike')\n",
    "plt.ylabel('IV')\n",
    "plt.title('IV de yahoo de las opciones Call con respecto al strike')\n",
    "    \n",
    "plt.show()"
   ]
  },
  {
   "cell_type": "markdown",
   "metadata": {},
   "source": [
    "### Usar en vez de LAST, (BID+ASK) /2"
   ]
  },
  {
   "cell_type": "code",
   "execution_count": null,
   "metadata": {},
   "outputs": [],
   "source": [
    "panel_opciones_nyse_limpio['Avg']=(panel_opciones_nyse_limpio.Bid+panel_opciones_nyse_limpio.Ask)/2"
   ]
  },
  {
   "cell_type": "code",
   "execution_count": null,
   "metadata": {},
   "outputs": [],
   "source": [
    "\n",
    "from matplotlib import pyplot as plt\n",
    "CP = \"C\"\n",
    "for TTM in TTMs[0:1]:\n",
    "    Ks = panel_opciones_nyse_limpio[(panel_opciones_nyse_limpio.TTM == TTM) & (panel_opciones_nyse_limpio.CallPut == CP)].Strike.values\n",
    "    precios_L = panel_opciones_nyse_limpio[(panel_opciones_nyse_limpio.TTM == TTM) & (panel_opciones_nyse_limpio.CallPut == CP)].Last.values\n",
    "    precios_A = panel_opciones_nyse_limpio[(panel_opciones_nyse_limpio.TTM == TTM) & (panel_opciones_nyse_limpio.CallPut == CP)].Avg.values\n",
    "    plt.plot(Ks, precios_L, '.',label='LAST TTM = '+str(TTM))\n",
    "    plt.plot(Ks, precios_A, '*',label='AVG TTM = '+str(TTM))\n",
    "\n",
    "\n",
    "plt.legend()\n",
    "\n",
    "plt.xlabel('Strike')\n",
    "plt.ylabel('Precio de mercado del Call')\n",
    "plt.title('Precio de mercado de las opciones Call con respecto al Strike')\n",
    "    \n",
    "plt.show()"
   ]
  },
  {
   "cell_type": "code",
   "execution_count": null,
   "metadata": {},
   "outputs": [],
   "source": []
  }
 ],
 "metadata": {
  "interpreter": {
   "hash": "b62a45837894e56328ceeb9538f61c4ee77dcb5c351d88e6e81f87c0d191c92d"
  },
  "kernelspec": {
   "display_name": "Python 3.10.5 64-bit (windows store)",
   "language": "python",
   "name": "python3"
  },
  "language_info": {
   "codemirror_mode": {
    "name": "ipython",
    "version": 3
   },
   "file_extension": ".py",
   "mimetype": "text/x-python",
   "name": "python",
   "nbconvert_exporter": "python",
   "pygments_lexer": "ipython3",
   "version": "3.10.5"
  }
 },
 "nbformat": 4,
 "nbformat_minor": 4
}
