{
 "cells": [
  {
   "cell_type": "markdown",
   "metadata": {},
   "source": [
    "# Derivados Financieros 2022 - Clase 3\n",
    "\n"
   ]
  },
  {
   "cell_type": "markdown",
   "metadata": {},
   "source": [
    "Plan de la clase:\n",
    "\n",
    "    1) Modelo Binomial\n",
    "    2) Modificacion para ejercicio temprano (Americanas)\n",
    "    3) Mercado vs Modelo"
   ]
  },
  {
   "cell_type": "markdown",
   "metadata": {},
   "source": [
    "## 1) Modelo Binomial"
   ]
  },
  {
   "cell_type": "code",
   "execution_count": 1,
   "metadata": {},
   "outputs": [],
   "source": [
    "import math\n",
    "import numpy as np\n",
    "\n",
    "import sys\n",
    "sys.path.append('..')\n",
    "\n",
    "from Codigo.opcion_europea_bin import opcion_europea_bin\n",
    "from Codigo.opcion_europea_bin_c import opcion_europea_bin_c\n",
    "from Codigo.opcion_americana_bin import opcion_americana_bin\n",
    "from Codigo.opcion_europea_bs import opcion_europea_bs\n",
    "\n"
   ]
  },
  {
   "cell_type": "markdown",
   "metadata": {},
   "source": [
    "Definicion:\n",
    "    Calculador del precio de una opcion Europea con el modelo del Arbol Binomial (CRR)\n",
    "\n",
    "Inputs:\n",
    "    - tipo : string - Tipo de contrato entre [\"CALL\",\"PUT\"]\n",
    "    - S : float - Spot price del activo\n",
    "    - K : float - Strike price del contrato\n",
    "    - T : float - Tiempo hasta la expiracion (en años)\n",
    "    - r : float - Tasa 'libre de riesgo' (anualizada)\n",
    "    - sigma : float - Volatilidad implicita (anualizada)\n",
    "    - div : float - Tasa de dividendos continuos (anualizada)\n",
    "    - pasos : int - Cantidad de pasos del arbol binomial\n",
    "\n",
    "Outputs:\n",
    "    - precio_BIN: float - Precio del contrato\n"
   ]
  },
  {
   "cell_type": "code",
   "execution_count": 2,
   "metadata": {},
   "outputs": [
    {
     "data": {
      "text/plain": [
       "12.213215959513816"
      ]
     },
     "execution_count": 2,
     "metadata": {},
     "output_type": "execute_result"
    }
   ],
   "source": [
    "#Paramtros del metodo\n",
    "\n",
    "tipo = \"C\"\n",
    "S = 100\n",
    "K = 100\n",
    "T = 1\n",
    "r = 0.05\n",
    "sigma = 0.25\n",
    "div = 0\n",
    "pasos = 20\n",
    "\n",
    "\n",
    "precio = opcion_europea_bin(tipo, S, K, T, r, sigma, div, pasos)\n",
    "precio"
   ]
  },
  {
   "cell_type": "markdown",
   "metadata": {},
   "source": [
    "## Desglosando el metodo"
   ]
  },
  {
   "cell_type": "markdown",
   "metadata": {},
   "source": [
    "### 1) Inicializo los parametros"
   ]
  },
  {
   "cell_type": "code",
   "execution_count": 3,
   "metadata": {},
   "outputs": [],
   "source": [
    "tipo = \"C\"\n",
    "S = 100\n",
    "K = 100\n",
    "T = 1\n",
    "r = 0.05\n",
    "sigma = 0.25\n",
    "div = 0\n",
    "pasos = 3"
   ]
  },
  {
   "cell_type": "markdown",
   "metadata": {},
   "source": [
    "### 2) Variables auxiliares"
   ]
  },
  {
   "cell_type": "code",
   "execution_count": 4,
   "metadata": {},
   "outputs": [],
   "source": [
    "#auxiliares\n",
    "dt = T / pasos\n",
    "tasa_forward = math.exp((r - div) * dt)\n",
    "descuento = math.exp(-r * dt)\n"
   ]
  },
  {
   "cell_type": "markdown",
   "metadata": {},
   "source": [
    "### 3) Parametros del Modelo (en este caso el CRR)"
   ]
  },
  {
   "cell_type": "code",
   "execution_count": 5,
   "metadata": {},
   "outputs": [
    {
     "data": {
      "text/plain": [
       "0.5219953022055941"
      ]
     },
     "execution_count": 5,
     "metadata": {},
     "output_type": "execute_result"
    }
   ],
   "source": [
    "#modelo CRR\n",
    "u = math.exp(sigma * math.pow(dt, 0.5))\n",
    "d = 1 / u\n",
    "\n",
    "#probabilidad de riesgo neutral\n",
    "q_prob = (tasa_forward - d) / (u - d)\n",
    "\n",
    "q_prob\n"
   ]
  },
  {
   "cell_type": "markdown",
   "metadata": {},
   "source": [
    "### 4) Vector de precios finales (ultima rama del arbol)"
   ]
  },
  {
   "cell_type": "code",
   "execution_count": 6,
   "metadata": {},
   "outputs": [
    {
     "data": {
      "text/plain": [
       "array([154.18958056, 115.52740254,  86.5595502 ,  64.85522539])"
      ]
     },
     "execution_count": 6,
     "metadata": {},
     "output_type": "execute_result"
    }
   ],
   "source": [
    "#Precios finales\n",
    "ST_precios=np.zeros((pasos+1))\n",
    "\n",
    "for i in range(0,pasos+1):\n",
    "    ST_precios[pasos-i] = math.pow(u, 2 * i - pasos) * S\n",
    "    \n",
    "ST_precios"
   ]
  },
  {
   "cell_type": "markdown",
   "metadata": {},
   "source": [
    "### 5) Matriz (representa el arbol) de precios de la opcion -  la ultima columna representa el Payoff"
   ]
  },
  {
   "cell_type": "code",
   "execution_count": 7,
   "metadata": {},
   "outputs": [
    {
     "data": {
      "text/plain": [
       "array([[0., 0., 0., 0.],\n",
       "       [0., 0., 0., 0.],\n",
       "       [0., 0., 0., 0.],\n",
       "       [0., 0., 0., 0.]])"
      ]
     },
     "execution_count": 7,
     "metadata": {},
     "output_type": "execute_result"
    }
   ],
   "source": [
    "from pprint import pprint as pp\n",
    "#Matriz de precios de la opcion\n",
    "opcion_precios = np.zeros((pasos+1, pasos+1))\n",
    "\n",
    "opcion_precios"
   ]
  },
  {
   "cell_type": "code",
   "execution_count": 8,
   "metadata": {},
   "outputs": [
    {
     "name": "stdout",
     "output_type": "stream",
     "text": [
      "array([[ 0.        ,  0.        ,  0.        , 54.18958056],\n",
      "       [ 0.        ,  0.        ,  0.        , 15.52740254],\n",
      "       [ 0.        ,  0.        ,  0.        ,  0.        ],\n",
      "       [ 0.        ,  0.        ,  0.        ,  0.        ]])\n"
     ]
    }
   ],
   "source": [
    "#Payoff\n",
    "for i in range (0, pasos+1):\n",
    "    if tipo == \"P\":\n",
    "        opcion_precios[i][pasos] = max(0, (K - ST_precios[i]))\n",
    "    elif tipo == \"C\":\n",
    "        opcion_precios[i][pasos] = max(0, (ST_precios[i] - K))\n",
    "        \n",
    "pp(opcion_precios)"
   ]
  },
  {
   "cell_type": "markdown",
   "metadata": {},
   "source": [
    "### 6) Recorro el arbol columna por columna"
   ]
  },
  {
   "cell_type": "code",
   "execution_count": 9,
   "metadata": {},
   "outputs": [
    {
     "data": {
      "text/plain": [
       "array([[ 0.        ,  0.        , 35.118662  , 54.18958056],\n",
       "       [ 0.        ,  0.        ,  7.9712635 , 15.52740254],\n",
       "       [ 0.        ,  0.        ,  0.        ,  0.        ],\n",
       "       [ 0.        ,  0.        ,  0.        ,  0.        ]])"
      ]
     },
     "execution_count": 9,
     "metadata": {},
     "output_type": "execute_result"
    }
   ],
   "source": [
    "j = 1\n",
    "for i in range(0, pasos+1 - j):\n",
    "    opcion_precios[i][pasos - j] = descuento * (q_prob * opcion_precios[i][pasos - j + 1] + (1  - q_prob) * opcion_precios[i + 1][pasos - j + 1])\n",
    "\n",
    "opcion_precios   "
   ]
  },
  {
   "cell_type": "code",
   "execution_count": 10,
   "metadata": {},
   "outputs": [
    {
     "data": {
      "text/plain": [
       "array([[ 0.        , 21.77610163, 35.118662  , 54.18958056],\n",
       "       [ 0.        ,  4.09218744,  7.9712635 , 15.52740254],\n",
       "       [ 0.        ,  0.        ,  0.        ,  0.        ],\n",
       "       [ 0.        ,  0.        ,  0.        ,  0.        ]])"
      ]
     },
     "execution_count": 10,
     "metadata": {},
     "output_type": "execute_result"
    }
   ],
   "source": [
    "j = 2\n",
    "for i in range(0, pasos+1 - j):\n",
    "    opcion_precios[i][pasos - j] = descuento * (q_prob * opcion_precios[i][pasos - j + 1] + (1  - q_prob) * opcion_precios[i + 1][pasos - j + 1])\n",
    "\n",
    "opcion_precios "
   ]
  },
  {
   "cell_type": "code",
   "execution_count": 11,
   "metadata": {},
   "outputs": [
    {
     "data": {
      "text/plain": [
       "array([[13.10289597, 21.77610163, 35.118662  , 54.18958056],\n",
       "       [ 0.        ,  4.09218744,  7.9712635 , 15.52740254],\n",
       "       [ 0.        ,  0.        ,  0.        ,  0.        ],\n",
       "       [ 0.        ,  0.        ,  0.        ,  0.        ]])"
      ]
     },
     "execution_count": 11,
     "metadata": {},
     "output_type": "execute_result"
    }
   ],
   "source": [
    "j = 3\n",
    "for i in range(0, pasos+1 - j):\n",
    "    opcion_precios[i][pasos - j] = descuento * (q_prob * opcion_precios[i][pasos - j + 1] + (1  - q_prob) * opcion_precios[i + 1][pasos - j + 1])\n",
    "\n",
    "opcion_precios "
   ]
  },
  {
   "cell_type": "code",
   "execution_count": null,
   "metadata": {},
   "outputs": [],
   "source": []
  },
  {
   "cell_type": "markdown",
   "metadata": {},
   "source": [
    "### 7) Precio de la opcion, primer nodo del arbol "
   ]
  },
  {
   "cell_type": "code",
   "execution_count": 12,
   "metadata": {},
   "outputs": [
    {
     "name": "stdout",
     "output_type": "stream",
     "text": [
      "13.102895972137345\n"
     ]
    }
   ],
   "source": [
    "precio_BIN_eur = opcion_precios[0][0]\n",
    "pp(precio_BIN_eur)"
   ]
  },
  {
   "cell_type": "markdown",
   "metadata": {},
   "source": [
    "## Formula Cerrada"
   ]
  },
  {
   "cell_type": "markdown",
   "metadata": {},
   "source": [
    "Volvemos a inicializar todas las variables\n"
   ]
  },
  {
   "cell_type": "code",
   "execution_count": 13,
   "metadata": {},
   "outputs": [],
   "source": [
    "import operator as op\n",
    "from functools import reduce\n",
    "def ncr(n, r):\n",
    "    r = min(r, n-r)\n",
    "    numer = reduce(op.mul, range(n, n-r, -1), 1)\n",
    "    denom = reduce(op.mul, range(1, r+1), 1)\n",
    "    return numer // denom  # or / in Python 2\n",
    "\n",
    "\n",
    "def nCr(n, r):\n",
    "    f = math.factorial\n",
    "    return f(n) / f(r) / f(n - r)"
   ]
  },
  {
   "cell_type": "code",
   "execution_count": 14,
   "metadata": {},
   "outputs": [],
   "source": [
    "tipo = \"C\"\n",
    "S = 100\n",
    "K = 100\n",
    "T = 1\n",
    "r = 0.05\n",
    "sigma = 0.25\n",
    "div = 0\n",
    "pasos = 1000\n",
    "\n",
    "\n",
    "#auxiliares\n",
    "dt = T / pasos\n",
    "tasa_forward = math.exp((r - div) * dt)\n",
    "descuento = math.exp(-r * dt)\n",
    "\n",
    "#modelo CRR\n",
    "u = math.exp(sigma * math.pow(dt, 0.5))\n",
    "d = 1 / u\n",
    "#probabilidad de riesgo neutral\n",
    "q_prob = (tasa_forward - d) / (u - d)\n"
   ]
  },
  {
   "cell_type": "code",
   "execution_count": 15,
   "metadata": {},
   "outputs": [
    {
     "data": {
      "text/plain": [
       "12.333527192230562"
      ]
     },
     "execution_count": 15,
     "metadata": {},
     "output_type": "execute_result"
    }
   ],
   "source": [
    "temp = 0\n",
    "\n",
    "for k in range(pasos):\n",
    "    if tipo == \"C\":\n",
    "        payoff = max(0, S * math.pow(u,k) * math.pow(d,pasos-k)-K)\n",
    "    elif tipo == \"P\":\n",
    "        payoff = max(0, K - S * math.pow(u, k) * math.pow(d, pasos - k))\n",
    "    temp = temp +ncr(pasos, k) * math.pow(q_prob,k) * math.pow((1-q_prob),pasos-k) * payoff\n",
    "\n",
    "precio_BIN_c = math.exp(-r*T)*temp\n",
    "    \n",
    "precio_BIN_c"
   ]
  },
  {
   "cell_type": "markdown",
   "metadata": {},
   "source": [
    "## 2) Americana"
   ]
  },
  {
   "cell_type": "code",
   "execution_count": 16,
   "metadata": {},
   "outputs": [],
   "source": [
    "tipo = \"C\"\n",
    "S = 100\n",
    "K = 100\n",
    "T = 1\n",
    "r = 0.05\n",
    "sigma = 0.25\n",
    "div = 0\n",
    "pasos = 1000\n",
    "\n",
    "\n",
    "#auxiliares\n",
    "dt = T / pasos\n",
    "tasa_forward = math.exp((r - div) * dt)\n",
    "descuento = math.exp(-r * dt)\n",
    "#modelo CRR\n",
    "u = math.exp(sigma * math.pow(dt, 0.5))\n",
    "d = 1 / u\n",
    "#probabilidad de riesgo neutral\n",
    "q_prob = (tasa_forward - d) / (u - d)\n",
    "\n",
    "\n",
    "#Precios finales\n",
    "ST_precios=np.zeros((pasos+1))\n",
    "\n",
    "for i in range(0,pasos+1):\n",
    "    ST_precios[pasos-i] = math.pow(u, 2 * i - pasos) * S\n",
    "    \n",
    "ST_precios\n",
    "opcion_precios = np.zeros((pasos+1, pasos+1))\n",
    "\n",
    "\n"
   ]
  },
  {
   "cell_type": "markdown",
   "metadata": {},
   "source": [
    "En el caso de una opcion americana, en cada punto del nodo tendremos que evaluar si nos conviene ejercer o no. Eso se resuelve de manera muy simple."
   ]
  },
  {
   "cell_type": "code",
   "execution_count": 17,
   "metadata": {},
   "outputs": [
    {
     "name": "stdout",
     "output_type": "stream",
     "text": [
      "12.33039037544276\n"
     ]
    }
   ],
   "source": [
    "for j in range(1, pasos+1):\n",
    "    for i in range(0, pasos+1 - j):\n",
    "        # Calculo primero el valor como si no hubiera ejercicio temprano (europeo)\n",
    "        eur = q_prob * opcion_precios[i][pasos - j + 1] + (1  - q_prob) * opcion_precios[i + 1][pasos - j + 1]\n",
    "        #dependiendo del contrato, comparo el valor del valor 'europeo' contra ejercer en ese momento.\n",
    "        # S * math.pow(u,-2*i+pasos-j) codifica al arbol de los S\n",
    "        if tipo == \"P\":\n",
    "            opcion_precios[i][pasos - j] = descuento * max(eur, K - S * math.pow(u,-2*i+pasos-j))\n",
    "        elif tipo == \"C\":\n",
    "            opcion_precios[i][pasos - j] = descuento * max(eur, S * math.pow(u,-2*i+pasos-j) - K)\n",
    "\n",
    "precio_BIN_ame = opcion_precios[0][0]\n",
    "pp(precio_BIN_ame) \n",
    "\n"
   ]
  },
  {
   "cell_type": "markdown",
   "metadata": {},
   "source": [
    "## Convergencia del Arbol Binomial"
   ]
  },
  {
   "cell_type": "code",
   "execution_count": 28,
   "metadata": {},
   "outputs": [],
   "source": [
    "tipo = \"C\"\n",
    "S = 100\n",
    "K = 100\n",
    "T = 1\n",
    "r = 0.05\n",
    "sigma= 0.25\n",
    "div =0\n",
    "\n",
    "pasos_vec = [1,2,3,4,5,6,7,8,9,10,12,14,16,18,20,25,30,40,50,75,100,125,150,200,250,300]      \n",
    "precios = np.zeros(len(pasos_vec))\n",
    "\n",
    "for index in range(len(pasos_vec)):\n",
    "    precios[index] = opcion_europea_bin(tipo, S, K, T, r, sigma, div, pasos_vec[index])\n",
    "    "
   ]
  },
  {
   "cell_type": "code",
   "execution_count": 29,
   "metadata": {},
   "outputs": [
    {
     "data": {
      "image/png": "[encoded data removed]",
      "text/plain": [
       "<Figure size 432x288 with 1 Axes>"
      ]
     },
     "metadata": {
      "needs_background": "light"
     },
     "output_type": "display_data"
    }
   ],
   "source": [
    "plt.plot(pasos_vec,precios,'*', label='Precio')\n",
    "plt.legend()\n",
    "\n",
    "plt.xlabel('Pasos del arbol Binomial')\n",
    "plt.ylabel('Precio del Call')\n",
    "plt.title('Precio de una opcion Call a tiempo inicial con respecto al numero de pasos del arbol')\n",
    "\n",
    "plt.show()"
   ]
  },
  {
   "cell_type": "markdown",
   "metadata": {},
   "source": [
    "## 3) Mercado VS Modelo\n",
    "## a) Saco una opcion del mercado y calculo su precio - NYSE"
   ]
  },
  {
   "cell_type": "code",
   "execution_count": 41,
   "metadata": {},
   "outputs": [
    {
     "name": "stderr",
     "output_type": "stream",
     "text": [
      "c:\\Users\\manue\\OneDrive\\Documents\\finanzasCuantitativas\\Notebooks\\..\\Codigo\\data_nyse.py:17: FutureWarning: The frame.append method is deprecated and will be removed from pandas in a future version. Use pandas.concat instead.\n",
      "  calls = calls.append(data.option_chain(vencimiento)[0])\n",
      "c:\\Users\\manue\\OneDrive\\Documents\\finanzasCuantitativas\\Notebooks\\..\\Codigo\\data_nyse.py:21: FutureWarning: The frame.append method is deprecated and will be removed from pandas in a future version. Use pandas.concat instead.\n",
      "  puts = puts.append(data.option_chain(vencimiento)[1])\n",
      "c:\\Users\\manue\\OneDrive\\Documents\\finanzasCuantitativas\\Notebooks\\..\\Codigo\\data_nyse.py:17: FutureWarning: The frame.append method is deprecated and will be removed from pandas in a future version. Use pandas.concat instead.\n",
      "  calls = calls.append(data.option_chain(vencimiento)[0])\n",
      "c:\\Users\\manue\\OneDrive\\Documents\\finanzasCuantitativas\\Notebooks\\..\\Codigo\\data_nyse.py:21: FutureWarning: The frame.append method is deprecated and will be removed from pandas in a future version. Use pandas.concat instead.\n",
      "  puts = puts.append(data.option_chain(vencimiento)[1])\n",
      "c:\\Users\\manue\\OneDrive\\Documents\\finanzasCuantitativas\\Notebooks\\..\\Codigo\\data_nyse.py:17: FutureWarning: The frame.append method is deprecated and will be removed from pandas in a future version. Use pandas.concat instead.\n",
      "  calls = calls.append(data.option_chain(vencimiento)[0])\n",
      "c:\\Users\\manue\\OneDrive\\Documents\\finanzasCuantitativas\\Notebooks\\..\\Codigo\\data_nyse.py:21: FutureWarning: The frame.append method is deprecated and will be removed from pandas in a future version. Use pandas.concat instead.\n",
      "  puts = puts.append(data.option_chain(vencimiento)[1])\n",
      "c:\\Users\\manue\\OneDrive\\Documents\\finanzasCuantitativas\\Notebooks\\..\\Codigo\\data_nyse.py:17: FutureWarning: The frame.append method is deprecated and will be removed from pandas in a future version. Use pandas.concat instead.\n",
      "  calls = calls.append(data.option_chain(vencimiento)[0])\n",
      "c:\\Users\\manue\\OneDrive\\Documents\\finanzasCuantitativas\\Notebooks\\..\\Codigo\\data_nyse.py:21: FutureWarning: The frame.append method is deprecated and will be removed from pandas in a future version. Use pandas.concat instead.\n",
      "  puts = puts.append(data.option_chain(vencimiento)[1])\n",
      "c:\\Users\\manue\\OneDrive\\Documents\\finanzasCuantitativas\\Notebooks\\..\\Codigo\\data_nyse.py:17: FutureWarning: The frame.append method is deprecated and will be removed from pandas in a future version. Use pandas.concat instead.\n",
      "  calls = calls.append(data.option_chain(vencimiento)[0])\n",
      "c:\\Users\\manue\\OneDrive\\Documents\\finanzasCuantitativas\\Notebooks\\..\\Codigo\\data_nyse.py:21: FutureWarning: The frame.append method is deprecated and will be removed from pandas in a future version. Use pandas.concat instead.\n",
      "  puts = puts.append(data.option_chain(vencimiento)[1])\n",
      "c:\\Users\\manue\\OneDrive\\Documents\\finanzasCuantitativas\\Notebooks\\..\\Codigo\\data_nyse.py:17: FutureWarning: The frame.append method is deprecated and will be removed from pandas in a future version. Use pandas.concat instead.\n",
      "  calls = calls.append(data.option_chain(vencimiento)[0])\n",
      "c:\\Users\\manue\\OneDrive\\Documents\\finanzasCuantitativas\\Notebooks\\..\\Codigo\\data_nyse.py:21: FutureWarning: The frame.append method is deprecated and will be removed from pandas in a future version. Use pandas.concat instead.\n",
      "  puts = puts.append(data.option_chain(vencimiento)[1])\n",
      "c:\\Users\\manue\\OneDrive\\Documents\\finanzasCuantitativas\\Notebooks\\..\\Codigo\\data_nyse.py:17: FutureWarning: The frame.append method is deprecated and will be removed from pandas in a future version. Use pandas.concat instead.\n",
      "  calls = calls.append(data.option_chain(vencimiento)[0])\n",
      "c:\\Users\\manue\\OneDrive\\Documents\\finanzasCuantitativas\\Notebooks\\..\\Codigo\\data_nyse.py:21: FutureWarning: The frame.append method is deprecated and will be removed from pandas in a future version. Use pandas.concat instead.\n",
      "  puts = puts.append(data.option_chain(vencimiento)[1])\n",
      "c:\\Users\\manue\\OneDrive\\Documents\\finanzasCuantitativas\\Notebooks\\..\\Codigo\\data_nyse.py:17: FutureWarning: The frame.append method is deprecated and will be removed from pandas in a future version. Use pandas.concat instead.\n",
      "  calls = calls.append(data.option_chain(vencimiento)[0])\n",
      "c:\\Users\\manue\\OneDrive\\Documents\\finanzasCuantitativas\\Notebooks\\..\\Codigo\\data_nyse.py:21: FutureWarning: The frame.append method is deprecated and will be removed from pandas in a future version. Use pandas.concat instead.\n",
      "  puts = puts.append(data.option_chain(vencimiento)[1])\n",
      "c:\\Users\\manue\\OneDrive\\Documents\\finanzasCuantitativas\\Notebooks\\..\\Codigo\\data_nyse.py:17: FutureWarning: The frame.append method is deprecated and will be removed from pandas in a future version. Use pandas.concat instead.\n",
      "  calls = calls.append(data.option_chain(vencimiento)[0])\n",
      "c:\\Users\\manue\\OneDrive\\Documents\\finanzasCuantitativas\\Notebooks\\..\\Codigo\\data_nyse.py:21: FutureWarning: The frame.append method is deprecated and will be removed from pandas in a future version. Use pandas.concat instead.\n",
      "  puts = puts.append(data.option_chain(vencimiento)[1])\n",
      "c:\\Users\\manue\\OneDrive\\Documents\\finanzasCuantitativas\\Notebooks\\..\\Codigo\\data_nyse.py:17: FutureWarning: The frame.append method is deprecated and will be removed from pandas in a future version. Use pandas.concat instead.\n",
      "  calls = calls.append(data.option_chain(vencimiento)[0])\n",
      "c:\\Users\\manue\\OneDrive\\Documents\\finanzasCuantitativas\\Notebooks\\..\\Codigo\\data_nyse.py:21: FutureWarning: The frame.append method is deprecated and will be removed from pandas in a future version. Use pandas.concat instead.\n",
      "  puts = puts.append(data.option_chain(vencimiento)[1])\n",
      "c:\\Users\\manue\\OneDrive\\Documents\\finanzasCuantitativas\\Notebooks\\..\\Codigo\\data_nyse.py:17: FutureWarning: The frame.append method is deprecated and will be removed from pandas in a future version. Use pandas.concat instead.\n",
      "  calls = calls.append(data.option_chain(vencimiento)[0])\n",
      "c:\\Users\\manue\\OneDrive\\Documents\\finanzasCuantitativas\\Notebooks\\..\\Codigo\\data_nyse.py:21: FutureWarning: The frame.append method is deprecated and will be removed from pandas in a future version. Use pandas.concat instead.\n",
      "  puts = puts.append(data.option_chain(vencimiento)[1])\n",
      "c:\\Users\\manue\\OneDrive\\Documents\\finanzasCuantitativas\\Notebooks\\..\\Codigo\\data_nyse.py:17: FutureWarning: The frame.append method is deprecated and will be removed from pandas in a future version. Use pandas.concat instead.\n",
      "  calls = calls.append(data.option_chain(vencimiento)[0])\n",
      "c:\\Users\\manue\\OneDrive\\Documents\\finanzasCuantitativas\\Notebooks\\..\\Codigo\\data_nyse.py:21: FutureWarning: The frame.append method is deprecated and will be removed from pandas in a future version. Use pandas.concat instead.\n",
      "  puts = puts.append(data.option_chain(vencimiento)[1])\n",
      "c:\\Users\\manue\\OneDrive\\Documents\\finanzasCuantitativas\\Notebooks\\..\\Codigo\\data_nyse.py:17: FutureWarning: The frame.append method is deprecated and will be removed from pandas in a future version. Use pandas.concat instead.\n",
      "  calls = calls.append(data.option_chain(vencimiento)[0])\n",
      "c:\\Users\\manue\\OneDrive\\Documents\\finanzasCuantitativas\\Notebooks\\..\\Codigo\\data_nyse.py:21: FutureWarning: The frame.append method is deprecated and will be removed from pandas in a future version. Use pandas.concat instead.\n",
      "  puts = puts.append(data.option_chain(vencimiento)[1])\n",
      "c:\\Users\\manue\\OneDrive\\Documents\\finanzasCuantitativas\\Notebooks\\..\\Codigo\\data_nyse.py:17: FutureWarning: The frame.append method is deprecated and will be removed from pandas in a future version. Use pandas.concat instead.\n",
      "  calls = calls.append(data.option_chain(vencimiento)[0])\n",
      "c:\\Users\\manue\\OneDrive\\Documents\\finanzasCuantitativas\\Notebooks\\..\\Codigo\\data_nyse.py:21: FutureWarning: The frame.append method is deprecated and will be removed from pandas in a future version. Use pandas.concat instead.\n",
      "  puts = puts.append(data.option_chain(vencimiento)[1])\n",
      "c:\\Users\\manue\\OneDrive\\Documents\\finanzasCuantitativas\\Notebooks\\..\\Codigo\\data_nyse.py:17: FutureWarning: The frame.append method is deprecated and will be removed from pandas in a future version. Use pandas.concat instead.\n",
      "  calls = calls.append(data.option_chain(vencimiento)[0])\n",
      "c:\\Users\\manue\\OneDrive\\Documents\\finanzasCuantitativas\\Notebooks\\..\\Codigo\\data_nyse.py:21: FutureWarning: The frame.append method is deprecated and will be removed from pandas in a future version. Use pandas.concat instead.\n",
      "  puts = puts.append(data.option_chain(vencimiento)[1])\n",
      "c:\\Users\\manue\\OneDrive\\Documents\\finanzasCuantitativas\\Notebooks\\..\\Codigo\\data_nyse.py:17: FutureWarning: The frame.append method is deprecated and will be removed from pandas in a future version. Use pandas.concat instead.\n",
      "  calls = calls.append(data.option_chain(vencimiento)[0])\n",
      "c:\\Users\\manue\\OneDrive\\Documents\\finanzasCuantitativas\\Notebooks\\..\\Codigo\\data_nyse.py:21: FutureWarning: The frame.append method is deprecated and will be removed from pandas in a future version. Use pandas.concat instead.\n",
      "  puts = puts.append(data.option_chain(vencimiento)[1])\n",
      "c:\\Users\\manue\\OneDrive\\Documents\\finanzasCuantitativas\\Notebooks\\..\\Codigo\\data_nyse.py:25: FutureWarning: The frame.append method is deprecated and will be removed from pandas in a future version. Use pandas.concat instead.\n",
      "  panel_opciones = calls.append(puts)\n"
     ]
    }
   ],
   "source": [
    "# Tomo un ticker e invoco al codigo de la clase pasada\n",
    "\n",
    "from Codigo.data_nyse import *\n",
    "ticker = 'TSLA'\n",
    "data = yf.Ticker(ticker)\n",
    "#Genero el panel\n",
    "panel_opciones = obtener_panel_opciones_nyse(ticker, True)\n",
    "\n"
   ]
  },
  {
   "cell_type": "code",
   "execution_count": 42,
   "metadata": {},
   "outputs": [
    {
     "data": {
      "text/html": [
       "<div>\n",
       "<style scoped>\n",
       "    .dataframe tbody tr th:only-of-type {\n",
       "        vertical-align: middle;\n",
       "    }\n",
       "\n",
       "    .dataframe tbody tr th {\n",
       "        vertical-align: top;\n",
       "    }\n",
       "\n",
       "    .dataframe thead th {\n",
       "        text-align: right;\n",
       "    }\n",
       "</style>\n",
       "<table border=\"1\" class=\"dataframe\">\n",
       "  <thead>\n",
       "    <tr style=\"text-align: right;\">\n",
       "      <th></th>\n",
       "      <th>Especie</th>\n",
       "      <th>Ticker</th>\n",
       "      <th>Spot</th>\n",
       "      <th>CallPut</th>\n",
       "      <th>Strike</th>\n",
       "      <th>TTM</th>\n",
       "      <th>Last</th>\n",
       "      <th>Moneyness</th>\n",
       "      <th>impliedVolatility</th>\n",
       "      <th>Bid</th>\n",
       "      <th>Ask</th>\n",
       "    </tr>\n",
       "  </thead>\n",
       "  <tbody>\n",
       "    <tr>\n",
       "      <th>0</th>\n",
       "      <td>TSLA220902C00083330</td>\n",
       "      <td>TSLA</td>\n",
       "      <td>285.908813</td>\n",
       "      <td>C</td>\n",
       "      <td>83.33</td>\n",
       "      <td>4</td>\n",
       "      <td>205.32</td>\n",
       "      <td>3.431043</td>\n",
       "      <td>0.000010</td>\n",
       "      <td>199.50</td>\n",
       "      <td>200.50</td>\n",
       "    </tr>\n",
       "    <tr>\n",
       "      <th>1</th>\n",
       "      <td>TSLA220902P00083330</td>\n",
       "      <td>TSLA</td>\n",
       "      <td>285.908813</td>\n",
       "      <td>P</td>\n",
       "      <td>83.33</td>\n",
       "      <td>4</td>\n",
       "      <td>0.01</td>\n",
       "      <td>3.431043</td>\n",
       "      <td>0.500005</td>\n",
       "      <td>0.00</td>\n",
       "      <td>0.00</td>\n",
       "    </tr>\n",
       "    <tr>\n",
       "      <th>2</th>\n",
       "      <td>TSLA220902C00100000</td>\n",
       "      <td>TSLA</td>\n",
       "      <td>285.908813</td>\n",
       "      <td>C</td>\n",
       "      <td>100.00</td>\n",
       "      <td>4</td>\n",
       "      <td>195.92</td>\n",
       "      <td>2.859088</td>\n",
       "      <td>0.000010</td>\n",
       "      <td>183.05</td>\n",
       "      <td>183.85</td>\n",
       "    </tr>\n",
       "    <tr>\n",
       "      <th>3</th>\n",
       "      <td>TSLA220902P00100000</td>\n",
       "      <td>TSLA</td>\n",
       "      <td>285.908813</td>\n",
       "      <td>P</td>\n",
       "      <td>100.00</td>\n",
       "      <td>4</td>\n",
       "      <td>0.01</td>\n",
       "      <td>2.859088</td>\n",
       "      <td>2.625003</td>\n",
       "      <td>0.00</td>\n",
       "      <td>0.01</td>\n",
       "    </tr>\n",
       "    <tr>\n",
       "      <th>4</th>\n",
       "      <td>TSLA220902C00116670</td>\n",
       "      <td>TSLA</td>\n",
       "      <td>285.908813</td>\n",
       "      <td>C</td>\n",
       "      <td>116.67</td>\n",
       "      <td>4</td>\n",
       "      <td>187.79</td>\n",
       "      <td>2.450577</td>\n",
       "      <td>0.000010</td>\n",
       "      <td>166.55</td>\n",
       "      <td>167.45</td>\n",
       "    </tr>\n",
       "    <tr>\n",
       "      <th>...</th>\n",
       "      <td>...</td>\n",
       "      <td>...</td>\n",
       "      <td>...</td>\n",
       "      <td>...</td>\n",
       "      <td>...</td>\n",
       "      <td>...</td>\n",
       "      <td>...</td>\n",
       "      <td>...</td>\n",
       "      <td>...</td>\n",
       "      <td>...</td>\n",
       "      <td>...</td>\n",
       "    </tr>\n",
       "    <tr>\n",
       "      <th>7967</th>\n",
       "      <td>TSLA240621P02200000</td>\n",
       "      <td>TSLA</td>\n",
       "      <td>285.908813</td>\n",
       "      <td>P</td>\n",
       "      <td>2200.00</td>\n",
       "      <td>662</td>\n",
       "      <td>1300.02</td>\n",
       "      <td>0.129959</td>\n",
       "      <td>0.000010</td>\n",
       "      <td>0.00</td>\n",
       "      <td>0.00</td>\n",
       "    </tr>\n",
       "    <tr>\n",
       "      <th>7968</th>\n",
       "      <td>TSLA240621C02250000</td>\n",
       "      <td>TSLA</td>\n",
       "      <td>285.908813</td>\n",
       "      <td>C</td>\n",
       "      <td>2250.00</td>\n",
       "      <td>662</td>\n",
       "      <td>69.46</td>\n",
       "      <td>0.127071</td>\n",
       "      <td>0.250007</td>\n",
       "      <td>0.00</td>\n",
       "      <td>0.00</td>\n",
       "    </tr>\n",
       "    <tr>\n",
       "      <th>7969</th>\n",
       "      <td>TSLA240621P02250000</td>\n",
       "      <td>TSLA</td>\n",
       "      <td>285.908813</td>\n",
       "      <td>P</td>\n",
       "      <td>2250.00</td>\n",
       "      <td>662</td>\n",
       "      <td>1387.48</td>\n",
       "      <td>0.127071</td>\n",
       "      <td>0.000010</td>\n",
       "      <td>0.00</td>\n",
       "      <td>0.00</td>\n",
       "    </tr>\n",
       "    <tr>\n",
       "      <th>7970</th>\n",
       "      <td>TSLA240621C02275000</td>\n",
       "      <td>TSLA</td>\n",
       "      <td>285.908813</td>\n",
       "      <td>C</td>\n",
       "      <td>2275.00</td>\n",
       "      <td>662</td>\n",
       "      <td>67.00</td>\n",
       "      <td>0.125674</td>\n",
       "      <td>0.250007</td>\n",
       "      <td>0.00</td>\n",
       "      <td>0.00</td>\n",
       "    </tr>\n",
       "    <tr>\n",
       "      <th>7971</th>\n",
       "      <td>TSLA240621P02275000</td>\n",
       "      <td>TSLA</td>\n",
       "      <td>285.908813</td>\n",
       "      <td>P</td>\n",
       "      <td>2275.00</td>\n",
       "      <td>662</td>\n",
       "      <td>1409.50</td>\n",
       "      <td>0.125674</td>\n",
       "      <td>0.000010</td>\n",
       "      <td>0.00</td>\n",
       "      <td>0.00</td>\n",
       "    </tr>\n",
       "  </tbody>\n",
       "</table>\n",
       "<p>7972 rows × 11 columns</p>\n",
       "</div>"
      ],
      "text/plain": [
       "                  Especie Ticker        Spot CallPut   Strike  TTM     Last  \\\n",
       "0     TSLA220902C00083330   TSLA  285.908813       C    83.33    4   205.32   \n",
       "1     TSLA220902P00083330   TSLA  285.908813       P    83.33    4     0.01   \n",
       "2     TSLA220902C00100000   TSLA  285.908813       C   100.00    4   195.92   \n",
       "3     TSLA220902P00100000   TSLA  285.908813       P   100.00    4     0.01   \n",
       "4     TSLA220902C00116670   TSLA  285.908813       C   116.67    4   187.79   \n",
       "...                   ...    ...         ...     ...      ...  ...      ...   \n",
       "7967  TSLA240621P02200000   TSLA  285.908813       P  2200.00  662  1300.02   \n",
       "7968  TSLA240621C02250000   TSLA  285.908813       C  2250.00  662    69.46   \n",
       "7969  TSLA240621P02250000   TSLA  285.908813       P  2250.00  662  1387.48   \n",
       "7970  TSLA240621C02275000   TSLA  285.908813       C  2275.00  662    67.00   \n",
       "7971  TSLA240621P02275000   TSLA  285.908813       P  2275.00  662  1409.50   \n",
       "\n",
       "      Moneyness  impliedVolatility     Bid     Ask  \n",
       "0      3.431043           0.000010  199.50  200.50  \n",
       "1      3.431043           0.500005    0.00    0.00  \n",
       "2      2.859088           0.000010  183.05  183.85  \n",
       "3      2.859088           2.625003    0.00    0.01  \n",
       "4      2.450577           0.000010  166.55  167.45  \n",
       "...         ...                ...     ...     ...  \n",
       "7967   0.129959           0.000010    0.00    0.00  \n",
       "7968   0.127071           0.250007    0.00    0.00  \n",
       "7969   0.127071           0.000010    0.00    0.00  \n",
       "7970   0.125674           0.250007    0.00    0.00  \n",
       "7971   0.125674           0.000010    0.00    0.00  \n",
       "\n",
       "[7972 rows x 11 columns]"
      ]
     },
     "execution_count": 42,
     "metadata": {},
     "output_type": "execute_result"
    }
   ],
   "source": [
    "panel_opciones"
   ]
  },
  {
   "cell_type": "code",
   "execution_count": 43,
   "metadata": {},
   "outputs": [
    {
     "data": {
      "text/plain": [
       "32"
      ]
     },
     "execution_count": 43,
     "metadata": {},
     "output_type": "execute_result"
    }
   ],
   "source": [
    "# Tomo los TTMs y me quedo con alguno de ellos\n",
    "TTMs = list(set(panel_opciones.TTM.values))\n",
    "TTMs.sort()\n",
    "\n",
    "TTM=TTMs[4]\n",
    "TTM"
   ]
  },
  {
   "cell_type": "code",
   "execution_count": 44,
   "metadata": {},
   "outputs": [
    {
     "data": {
      "text/plain": [
       "Int64Index([2789, 2791, 2793, 2795, 2797, 2799, 2801, 2803, 2805, 2806,\n",
       "            ...\n",
       "            3006, 3008, 3010, 3012, 3015, 3018, 3022, 3024, 3029, 3034],\n",
       "           dtype='int64', length=119)"
      ]
     },
     "execution_count": 44,
     "metadata": {},
     "output_type": "execute_result"
    }
   ],
   "source": [
    "# elijo un tipo de opcion y tomo los strikes\n",
    "CP = \"P\"\n",
    "Ks = panel_opciones[(panel_opciones.TTM == TTM) & (panel_opciones.CallPut == CP)].Strike.values\n",
    "Ks_indexes = panel_opciones[(panel_opciones.TTM == TTM) & (panel_opciones.CallPut == CP)].Strike.index\n",
    "\n",
    "Ks_indexes"
   ]
  },
  {
   "cell_type": "code",
   "execution_count": 45,
   "metadata": {},
   "outputs": [
    {
     "data": {
      "text/plain": [
       "2848"
      ]
     },
     "execution_count": 45,
     "metadata": {},
     "output_type": "execute_result"
    }
   ],
   "source": [
    "#Tomo el ATM strike\n",
    "K_atm_index = np.abs(Ks - panel_opciones.Spot.values[0]).argmin()\n",
    "\n",
    "K_ATM = Ks[K_atm_index]\n",
    "K_ATM\n",
    "K_ATM_index_df = panel_opciones[(panel_opciones.TTM == TTM) & (panel_opciones.CallPut == CP)&(panel_opciones.Strike==K_ATM)].Strike.index[0]\n",
    "K_ATM_index_df\n"
   ]
  },
  {
   "cell_type": "code",
   "execution_count": 46,
   "metadata": {},
   "outputs": [
    {
     "data": {
      "text/html": [
       "<div>\n",
       "<style scoped>\n",
       "    .dataframe tbody tr th:only-of-type {\n",
       "        vertical-align: middle;\n",
       "    }\n",
       "\n",
       "    .dataframe tbody tr th {\n",
       "        vertical-align: top;\n",
       "    }\n",
       "\n",
       "    .dataframe thead th {\n",
       "        text-align: right;\n",
       "    }\n",
       "</style>\n",
       "<table border=\"1\" class=\"dataframe\">\n",
       "  <thead>\n",
       "    <tr style=\"text-align: right;\">\n",
       "      <th></th>\n",
       "      <th>Especie</th>\n",
       "      <th>Ticker</th>\n",
       "      <th>Spot</th>\n",
       "      <th>CallPut</th>\n",
       "      <th>Strike</th>\n",
       "      <th>TTM</th>\n",
       "      <th>Last</th>\n",
       "      <th>Moneyness</th>\n",
       "      <th>impliedVolatility</th>\n",
       "      <th>Bid</th>\n",
       "      <th>Ask</th>\n",
       "    </tr>\n",
       "  </thead>\n",
       "  <tbody>\n",
       "    <tr>\n",
       "      <th>543</th>\n",
       "      <td>TSLA220902P01220000</td>\n",
       "      <td>TSLA</td>\n",
       "      <td>285.908813</td>\n",
       "      <td>P</td>\n",
       "      <td>1220.0</td>\n",
       "      <td>4</td>\n",
       "      <td>369.75</td>\n",
       "      <td>0.234351</td>\n",
       "      <td>0.00001</td>\n",
       "      <td>0.0</td>\n",
       "      <td>0.0</td>\n",
       "    </tr>\n",
       "  </tbody>\n",
       "</table>\n",
       "</div>"
      ],
      "text/plain": [
       "                 Especie Ticker        Spot CallPut  Strike  TTM    Last  \\\n",
       "543  TSLA220902P01220000   TSLA  285.908813       P  1220.0    4  369.75   \n",
       "\n",
       "     Moneyness  impliedVolatility  Bid  Ask  \n",
       "543   0.234351            0.00001  0.0  0.0  "
      ]
     },
     "execution_count": 46,
     "metadata": {},
     "output_type": "execute_result"
    }
   ],
   "source": [
    "panel_opciones[panel_opciones.index==543]"
   ]
  },
  {
   "cell_type": "code",
   "execution_count": 47,
   "metadata": {},
   "outputs": [],
   "source": [
    "# Saco de los datos de mercado los parametros necesarios para pricear\n",
    "\n",
    "\n",
    "CP = 'P'\n",
    "S = panel_opciones.Spot.values[K_ATM_index_df]\n",
    "\n",
    "K = panel_opciones.Strike.values[K_ATM_index_df]\n",
    "T = (panel_opciones.TTM.values[K_ATM_index_df])/365\n",
    "\n",
    "sigma = panel_opciones.impliedVolatility.values[K_ATM_index_df]\n",
    "\n",
    "#sigma = panel_opciones[(panel_opciones.TTM == TTM) & (panel_opciones.CallPut == CP) & (panel_opciones.Strike == K_ATM)].impliedVolatility.values[0]\n",
    "try:\n",
    "    div = float(data.info['dividendYield'])\n",
    "except:\n",
    "    div = 0.0 \n",
    "    \n",
    "pasos = 2000\n",
    "\n",
    "\n"
   ]
  },
  {
   "cell_type": "code",
   "execution_count": 49,
   "metadata": {},
   "outputs": [],
   "source": [
    "#tasa libre de riesgo de Libor1M - https://www.global-rates.com/en/interest-rates/libor/libor.aspx\n",
    "r = 0.00084  #Libor1M**\n",
    "\n",
    "   "
   ]
  },
  {
   "cell_type": "code",
   "execution_count": 50,
   "metadata": {},
   "outputs": [
    {
     "data": {
      "text/plain": [
       "0.5645185150146486"
      ]
     },
     "execution_count": 50,
     "metadata": {},
     "output_type": "execute_result"
    }
   ],
   "source": [
    "# Volatilidad sacada del dataframe\n",
    "sigma"
   ]
  },
  {
   "cell_type": "code",
   "execution_count": 51,
   "metadata": {},
   "outputs": [
    {
     "data": {
      "text/plain": [
       "0.0"
      ]
     },
     "execution_count": 51,
     "metadata": {},
     "output_type": "execute_result"
    }
   ],
   "source": [
    "# dividendo sacada de data.info\n",
    "div"
   ]
  },
  {
   "cell_type": "code",
   "execution_count": 52,
   "metadata": {},
   "outputs": [
    {
     "data": {
      "text/plain": [
       "285.9088134765625"
      ]
     },
     "execution_count": 52,
     "metadata": {},
     "output_type": "execute_result"
    }
   ],
   "source": [
    "#spot sacada de data.info\n",
    "S"
   ]
  },
  {
   "cell_type": "code",
   "execution_count": 53,
   "metadata": {},
   "outputs": [
    {
     "name": "stdout",
     "output_type": "stream",
     "text": [
      "Precio Modelo Binomial:  19.442819027605513\n",
      "Precio Modelo BS:  19.440119674424665\n",
      "Precio Mercado Last:  20.0\n",
      "Precio Mercado Avg:  19.575\n"
     ]
    }
   ],
   "source": [
    "# Llamo a los 2 pricers y comparo con el precio de mercado\n",
    "\n",
    "precio_modelo_bin = opcion_americana_bin(CP, S, K, T, r, sigma, div, pasos)\n",
    "print(\"Precio Modelo Binomial: \", precio_modelo_bin)\n",
    "\n",
    "precio_modelo_bs = opcion_europea_bs(CP, S, K, T, r, sigma, div)\n",
    "print(\"Precio Modelo BS: \", precio_modelo_bs)\n",
    "\n",
    "precio_mercado_last = panel_opciones[(panel_opciones.TTM == TTM) & (panel_opciones.CallPut == CP) & (panel_opciones.Strike == K_ATM)].Last.values[0] \n",
    "\n",
    "precio_mercado_avg = (panel_opciones[(panel_opciones.TTM == TTM) & (panel_opciones.CallPut == CP) & (panel_opciones.Strike == K_ATM)].Bid.values[0]#\n",
    "+panel_opciones[(panel_opciones.TTM == TTM) & (panel_opciones.CallPut == CP) & (panel_opciones.Strike == K_ATM)].Ask.values[0]\n",
    ")/2\n",
    "\n",
    "print(\"Precio Mercado Last: \", precio_mercado_last)\n",
    "\n",
    "print(\"Precio Mercado Avg: \", precio_mercado_avg)\n",
    "\n"
   ]
  },
  {
   "cell_type": "code",
   "execution_count": 54,
   "metadata": {},
   "outputs": [
    {
     "name": "stdout",
     "output_type": "stream",
     "text": [
      "Error relativo entre modelo y mercado (en %):  0.6890438088139699\n"
     ]
    }
   ],
   "source": [
    "#Error relativo entre valor de mercado y valor de modelo:\n",
    "\n",
    "print(\"Error relativo entre modelo y mercado (en %): \", (precio_mercado_avg-precio_modelo_bs)/precio_mercado_avg*100)"
   ]
  },
  {
   "cell_type": "markdown",
   "metadata": {},
   "source": [
    "## b) Saco una opcion del mercado y calculo su precio - BYMA\n",
    "\n",
    "\n",
    "## Ejercicio"
   ]
  }
 ],
 "metadata": {
  "kernelspec": {
   "display_name": "Python 3.10.5 64-bit (windows store)",
   "language": "python",
   "name": "python3"
  },
  "language_info": {
   "codemirror_mode": {
    "name": "ipython",
    "version": 3
   },
   "file_extension": ".py",
   "mimetype": "text/x-python",
   "name": "python",
   "nbconvert_exporter": "python",
   "pygments_lexer": "ipython3",
   "version": "3.10.5"
  },
  "vscode": {
   "interpreter": {
    "hash": "e2a6dae1680d5d703b715907ac46bd7a3965acafb3f09cc0a45412b83daff840"
   }
  }
 },
 "nbformat": 4,
 "nbformat_minor": 4
}
