{
 "cells": [
  {
   "cell_type": "markdown",
   "metadata": {},
   "source": [
    "## Volatilidad Implicita"
   ]
  },
  {
   "cell_type": "code",
   "execution_count": 10,
   "metadata": {},
   "outputs": [],
   "source": [
    "import math\n",
    "import numpy as np\n",
    "from scipy.stats import norm\n",
    "import sys\n",
    "sys.path.append('..')\n",
    "\n",
    "from Codigo.opcion_europea_bin import opcion_europea_bin\n",
    "from Codigo.opcion_europea_bin_c import opcion_europea_bin_c\n",
    "from Codigo.opcion_americana_bin import opcion_americana_bin\n",
    "from Codigo.opcion_europea_bs import opcion_europea_bs\n",
    "\n"
   ]
  },
  {
   "cell_type": "markdown",
   "metadata": {},
   "source": [
    "Me genero unas funciones auxiliares para definir el metodo de biseccion "
   ]
  },
  {
   "cell_type": "code",
   "execution_count": 37,
   "metadata": {},
   "outputs": [],
   "source": [
    "def samesign(a, b):\n",
    "    return a * b > 0\n",
    "\n",
    "def bisect(func, low, high, iters=100):\n",
    "    'Find root of continuous function where f(low) and f(high) have opposite signs'\n",
    "\n",
    "    assert not samesign(func(low), func(high))\n",
    "\n",
    "    for i in range(iters):\n",
    "        midpoint = (low + high) / 2.0\n",
    "        if samesign(func(low), func(midpoint)):\n",
    "            low = midpoint\n",
    "        else:\n",
    "            high = midpoint\n",
    "\n",
    "    return midpoint"
   ]
  },
  {
   "cell_type": "markdown",
   "metadata": {},
   "source": [
    "### Defino la funcion de volatilidad implicita. Busco el cero de la funcion O_T-O_M (opcion teorica menos opcion mercado)"
   ]
  },
  {
   "cell_type": "code",
   "execution_count": 38,
   "metadata": {},
   "outputs": [],
   "source": [
    "\n",
    "def impvolfunc_bs(tipo, S, K, T, r, precio_mercado, div):\n",
    "    \n",
    "    \n",
    "    func = lambda sigma: (opcion_europea_bs(tipo, S, K, T, r, sigma, div) - precio_mercado)\n",
    "\n",
    "    impvol = bisect(func,0.00001, 3.0, 100)\n",
    "    return impvol\n",
    "\n",
    "\n",
    "def impvolfunc_bin(tipo, S, K, T, r, precio_mercado, div, pasos = 1000):\n",
    "    func = lambda sigma: (opcion_americana_bin(tipo, S, K, T, r, sigma, div, pasos) - precio_mercado)\n",
    "    \n",
    "    impvol = bisect(func,0.0001, 3.0, 100)\n",
    "    return impvol"
   ]
  },
  {
   "cell_type": "markdown",
   "metadata": {},
   "source": [
    "Recorro el dataframe y copleto la volatilidad implicita"
   ]
  },
  {
   "cell_type": "code",
   "execution_count": 39,
   "metadata": {},
   "outputs": [],
   "source": [
    "panel_nyse['volatilidad_implicita_bs'] = 0.0\n",
    "\n",
    "for index in panel_nyse.index:\n",
    "    \n",
    "    tipo =  panel_nyse.CallPut.values[index]\n",
    "    S = panel_nyse.Spot.values[index] \n",
    "    K = panel_nyse.Strike.values[index]\n",
    "    T = panel_nyse.TTM.values[index]/365\n",
    "    r = panel_nyse.Tasa.values[index]\n",
    "    div = panel_nyse.Div.values[index]\n",
    "    precio_mercado = panel_nyse.Avg.values[index]\n",
    "    try:\n",
    "        panel_nyse.volatilidad_implicita_bs.values[index] = impvolfunc_bs(tipo, S, K, T, r, precio_mercado, div)\n",
    "    except:\n",
    "        pass"
   ]
  },
  {
   "cell_type": "code",
   "execution_count": 40,
   "metadata": {},
   "outputs": [
    {
     "data": {
      "image/png": "[encoded data removed]",
      "text/plain": [
       "<Figure size 432x288 with 1 Axes>"
      ]
     },
     "metadata": {
      "needs_background": "light"
     },
     "output_type": "display_data"
    }
   ],
   "source": [
    "CP = \"C\"\n",
    "\n",
    "TTM = TTMs[5]\n",
    "\n",
    "Ks = panel_nyse[(panel_nyse.TTM == TTM) & (panel_nyse.CallPut == CP)].Strike.values\n",
    "imp_vol_yahoo = panel_nyse[(panel_nyse.TTM == TTM) & (panel_nyse.CallPut == CP)].impliedVolatility.values\n",
    "imp_vol_bs = panel_nyse[(panel_nyse.TTM == TTM) & (panel_nyse.CallPut == CP)].volatilidad_implicita_bs.values\n",
    "\n",
    "    \n",
    "space = 3\n",
    "    \n",
    "#plt.plot(Ks[0::space], precios_last[0::space], '.', label = 'Market - Last')\n",
    "plt.plot(Ks[0::space], imp_vol_yahoo[0::space], '.',label = 'imp_vol_yahoo')\n",
    "#plt.plot(Ks[0::space], precios_BS[0::space], '.',label = 'Model - Black Scholes')\n",
    "plt.plot(Ks[0::space], imp_vol_bs[0::space], '.',label = 'imp_vol_bs')\n",
    "\n",
    "\n",
    "plt.legend()\n",
    "\n",
    "plt.xlabel('Strike')\n",
    "plt.ylabel('Vol. Implicita del Call')\n",
    "plt.title('Vol. Implicita de opciones Call con respecto al Strike')\n",
    "    \n",
    "plt.show()"
   ]
  },
  {
   "cell_type": "code",
   "execution_count": 41,
   "metadata": {},
   "outputs": [
    {
     "data": {
      "image/png": "[encoded data removed]",
      "text/plain": [
       "<Figure size 432x288 with 1 Axes>"
      ]
     },
     "metadata": {
      "needs_background": "light"
     },
     "output_type": "display_data"
    }
   ],
   "source": [
    "CP = \"P\"\n",
    "\n",
    "TTM = TTMs[5]\n",
    "\n",
    "Ks = panel_nyse[(panel_nyse.TTM == TTM) & (panel_nyse.CallPut == CP)].Strike.values\n",
    "imp_vol_yahoo = panel_nyse[(panel_nyse.TTM == TTM) & (panel_nyse.CallPut == CP)].impliedVolatility.values\n",
    "imp_vol_bs = panel_nyse[(panel_nyse.TTM == TTM) & (panel_nyse.CallPut == CP)].volatilidad_implicita_bs.values\n",
    "\n",
    "    \n",
    "space = 3\n",
    "    \n",
    "#plt.plot(Ks[0::space], precios_last[0::space], '.', label = 'Market - Last')\n",
    "plt.plot(Ks[0::space], imp_vol_yahoo[0::space], '.',label = 'imp_vol_yahoo')\n",
    "#plt.plot(Ks[0::space], precios_BS[0::space], '.',label = 'Model - Black Scholes')\n",
    "plt.plot(Ks[0::space], imp_vol_bs[0::space], '.',label = 'imp_vol_bs')\n",
    "\n",
    "\n",
    "plt.legend()\n",
    "\n",
    "plt.xlabel('Strike')\n",
    "plt.ylabel('Vol. Implicita del Call')\n",
    "plt.title('Vol. Implicita de opciones Call con respecto al Strike')\n",
    "    \n",
    "plt.show()"
   ]
  }
 ],
 "metadata": {
  "kernelspec": {
   "display_name": "Python 3.10.5 64-bit (windows store)",
   "language": "python",
   "name": "python3"
  },
  "language_info": {
   "codemirror_mode": {
    "name": "ipython",
    "version": 3
   },
   "file_extension": ".py",
   "mimetype": "text/x-python",
   "name": "python",
   "nbconvert_exporter": "python",
   "pygments_lexer": "ipython3",
   "version": "3.10.5"
  },
  "vscode": {
   "interpreter": {
    "hash": "e2a6dae1680d5d703b715907ac46bd7a3965acafb3f09cc0a45412b83daff840"
   }
  }
 },
 "nbformat": 4,
 "nbformat_minor": 4
}
