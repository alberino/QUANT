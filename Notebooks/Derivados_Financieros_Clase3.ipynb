{
 "cells": [
  {
   "cell_type": "markdown",
   "metadata": {},
   "source": [
    "# Derivados Financieros 2023 - Clase 3\n",
    "\n"
   ]
  },
  {
   "cell_type": "markdown",
   "metadata": {},
   "source": [
    "Plan de la clase:\n",
    "\n",
    "    1) Modelo Binomial\n",
    "    2) Modificacion para ejercicio temprano (Americanas)\n",
    "    3) Jugando con el pricer\n",
    "    4) Black Scholes\n",
    "    5) Mercado vs Modelo"
   ]
  },
  {
   "cell_type": "markdown",
   "metadata": {},
   "source": [
    "## 1) Modelo Binomial"
   ]
  },
  {
   "cell_type": "code",
   "execution_count": null,
   "metadata": {},
   "outputs": [],
   "source": [
    "import math\n",
    "import numpy as np\n",
    "\n",
    "import sys\n",
    "sys.path.append('..')\n",
    "\n",
    "from Codigo.opcion_europea_bin import opcion_europea_bin\n",
    "from Codigo.opcion_europea_bin_c import opcion_europea_bin_c\n",
    "from Codigo.opcion_americana_bin import opcion_americana_bin\n",
    "from Codigo.opcion_europea_bs import opcion_europea_bs\n",
    "\n"
   ]
  },
  {
   "cell_type": "markdown",
   "metadata": {},
   "source": [
    "Definicion:\n",
    "    Calculador del precio de una opcion Europea con el modelo del Arbol Binomial (CRR)\n",
    "\n",
    "Inputs:\n",
    "    - tipo : string - Tipo de contrato entre [\"CALL\",\"PUT\"]\n",
    "    - S : float - Spot price del activo\n",
    "    - K : float - Strike price del contrato\n",
    "    - T : float - Tiempo hasta la expiracion (en años)\n",
    "    - r : float - Tasa 'libre de riesgo' (anualizada)\n",
    "    - sigma : float - Volatilidad implicita (anualizada)\n",
    "    - div : float - Tasa de dividendos continuos (anualizada)\n",
    "    - pasos : int - Cantidad de pasos del arbol binomial\n",
    "\n",
    "Outputs:\n",
    "    - precio_BIN: float - Precio del contrato\n"
   ]
  },
  {
   "cell_type": "code",
   "execution_count": null,
   "metadata": {},
   "outputs": [],
   "source": [
    "#Paramtros del metodo\n",
    "\n",
    "tipo = \"C\"\n",
    "S = 100\n",
    "K = 100\n",
    "T = 1\n",
    "r = 0.05\n",
    "sigma = 0.25\n",
    "div = 0\n",
    "pasos = 20\n",
    "\n",
    "\n",
    "precio = opcion_europea_bin(tipo, S, K, T, r, sigma, div, pasos)\n",
    "precio"
   ]
  },
  {
   "cell_type": "markdown",
   "metadata": {},
   "source": [
    "## Desglosando el metodo"
   ]
  },
  {
   "cell_type": "markdown",
   "metadata": {},
   "source": [
    "### 1) Inicializo los parametros"
   ]
  },
  {
   "cell_type": "code",
   "execution_count": null,
   "metadata": {},
   "outputs": [],
   "source": [
    "tipo = \"C\"\n",
    "S = 100\n",
    "K = 100\n",
    "T = 1\n",
    "r = 0.05\n",
    "sigma = 0.25\n",
    "div = 0\n",
    "pasos = 3"
   ]
  },
  {
   "cell_type": "markdown",
   "metadata": {},
   "source": [
    "### 2) Variables auxiliares"
   ]
  },
  {
   "cell_type": "code",
   "execution_count": null,
   "metadata": {},
   "outputs": [],
   "source": [
    "#auxiliares\n",
    "dt = T / pasos\n",
    "tasa_forward = math.exp((r - div) * dt)\n",
    "descuento = math.exp(-r * dt)\n"
   ]
  },
  {
   "cell_type": "markdown",
   "metadata": {},
   "source": [
    "### 3) Parametros del Modelo (en este caso el CRR)"
   ]
  },
  {
   "cell_type": "code",
   "execution_count": null,
   "metadata": {},
   "outputs": [],
   "source": [
    "#modelo CRR\n",
    "u = math.exp(sigma * math.pow(dt, 0.5))\n",
    "d = 1 / u\n",
    "\n",
    "#probabilidad de riesgo neutral\n",
    "q_prob = (tasa_forward - d) / (u - d)\n",
    "\n",
    "q_prob\n"
   ]
  },
  {
   "cell_type": "markdown",
   "metadata": {},
   "source": [
    "### 4) Vector de precios finales (ultima rama del arbol)"
   ]
  },
  {
   "cell_type": "code",
   "execution_count": null,
   "metadata": {},
   "outputs": [],
   "source": [
    "#Precios finales\n",
    "ST_precios=np.zeros((pasos+1))\n",
    "\n",
    "for i in range(0,pasos+1):\n",
    "    ST_precios[pasos-i] = math.pow(u, 2 * i - pasos) * S\n",
    "    \n",
    "ST_precios"
   ]
  },
  {
   "cell_type": "markdown",
   "metadata": {},
   "source": [
    "### 5) Matriz (representa el arbol) de precios de la opcion -  la ultima columna representa el Payoff"
   ]
  },
  {
   "cell_type": "code",
   "execution_count": null,
   "metadata": {},
   "outputs": [],
   "source": [
    "from pprint import pprint as pp\n",
    "#Matriz de precios de la opcion\n",
    "opcion_precios = np.zeros((pasos+1, pasos+1))\n",
    "\n",
    "opcion_precios"
   ]
  },
  {
   "cell_type": "code",
   "execution_count": null,
   "metadata": {},
   "outputs": [],
   "source": [
    "#Payoff\n",
    "for i in range (0, pasos+1):\n",
    "    if tipo == \"P\":\n",
    "        opcion_precios[i][pasos] = max(0, (K - ST_precios[i]))\n",
    "    elif tipo == \"C\":\n",
    "        opcion_precios[i][pasos] = max(0, (ST_precios[i] - K))\n",
    "        \n",
    "pp(opcion_precios)"
   ]
  },
  {
   "cell_type": "markdown",
   "metadata": {},
   "source": [
    "### 6) Recorro el arbol columna por columna"
   ]
  },
  {
   "cell_type": "code",
   "execution_count": null,
   "metadata": {},
   "outputs": [],
   "source": [
    "j = 1\n",
    "for i in range(0, pasos+1 - j):\n",
    "    opcion_precios[i][pasos - j] = descuento * (q_prob * opcion_precios[i][pasos - j + 1] + (1  - q_prob) * opcion_precios[i + 1][pasos - j + 1])\n",
    "\n",
    "opcion_precios   "
   ]
  },
  {
   "cell_type": "code",
   "execution_count": null,
   "metadata": {},
   "outputs": [],
   "source": [
    "j = 2\n",
    "for i in range(0, pasos+1 - j):\n",
    "    opcion_precios[i][pasos - j] = descuento * (q_prob * opcion_precios[i][pasos - j + 1] + (1  - q_prob) * opcion_precios[i + 1][pasos - j + 1])\n",
    "\n",
    "opcion_precios "
   ]
  },
  {
   "cell_type": "code",
   "execution_count": null,
   "metadata": {},
   "outputs": [],
   "source": [
    "j = 3\n",
    "for i in range(0, pasos+1 - j):\n",
    "    opcion_precios[i][pasos - j] = descuento * (q_prob * opcion_precios[i][pasos - j + 1] + (1  - q_prob) * opcion_precios[i + 1][pasos - j + 1])\n",
    "\n",
    "opcion_precios "
   ]
  },
  {
   "cell_type": "markdown",
   "metadata": {},
   "source": [
    "### 7) Precio de la opcion, primer nodo del arbol "
   ]
  },
  {
   "cell_type": "code",
   "execution_count": null,
   "metadata": {},
   "outputs": [],
   "source": [
    "precio_BIN_eur = opcion_precios[0][0]\n",
    "pp(precio_BIN_eur)"
   ]
  },
  {
   "cell_type": "markdown",
   "metadata": {},
   "source": [
    "## Formula Cerrada"
   ]
  },
  {
   "cell_type": "markdown",
   "metadata": {},
   "source": [
    "Volvemos a inicializar todas las variables\n"
   ]
  },
  {
   "cell_type": "code",
   "execution_count": null,
   "metadata": {},
   "outputs": [],
   "source": [
    "import operator as op\n",
    "from functools import reduce\n",
    "def ncr(n, r):\n",
    "    r = min(r, n-r)\n",
    "    numer = reduce(op.mul, range(n, n-r, -1), 1)\n",
    "    denom = reduce(op.mul, range(1, r+1), 1)\n",
    "    return numer // denom  # or / in Python 2\n",
    "\n",
    "\n",
    "def nCr(n, r):\n",
    "    f = math.factorial\n",
    "    return f(n) / f(r) / f(n - r)"
   ]
  },
  {
   "cell_type": "code",
   "execution_count": null,
   "metadata": {},
   "outputs": [],
   "source": [
    "tipo = \"C\"\n",
    "S = 100\n",
    "K = 100\n",
    "T = 1\n",
    "r = 0.05\n",
    "sigma = 0.25\n",
    "div = 0\n",
    "pasos = 1000\n",
    "\n",
    "\n",
    "#auxiliares\n",
    "dt = T / pasos\n",
    "tasa_forward = math.exp((r - div) * dt)\n",
    "descuento = math.exp(-r * dt)\n",
    "\n",
    "#modelo CRR\n",
    "u = math.exp(sigma * math.pow(dt, 0.5))\n",
    "d = 1 / u\n",
    "#probabilidad de riesgo neutral\n",
    "q_prob = (tasa_forward - d) / (u - d)\n"
   ]
  },
  {
   "cell_type": "code",
   "execution_count": null,
   "metadata": {},
   "outputs": [],
   "source": [
    "temp = 0\n",
    "\n",
    "for k in range(pasos):\n",
    "    if tipo == \"C\":\n",
    "        payoff = max(0, S * math.pow(u,k) * math.pow(d,pasos-k)-K)\n",
    "    elif tipo == \"P\":\n",
    "        payoff = max(0, K - S * math.pow(u, k) * math.pow(d, pasos - k))\n",
    "    temp = temp +ncr(pasos, k) * math.pow(q_prob,k) * math.pow((1-q_prob),pasos-k) * payoff\n",
    "\n",
    "precio_BIN_c = math.exp(-r*T)*temp\n",
    "    \n",
    "precio_BIN_c"
   ]
  },
  {
   "cell_type": "markdown",
   "metadata": {},
   "source": [
    "## 2) Americana"
   ]
  },
  {
   "cell_type": "code",
   "execution_count": null,
   "metadata": {},
   "outputs": [],
   "source": [
    "tipo = \"C\"\n",
    "S = 100\n",
    "K = 100\n",
    "T = 1\n",
    "r = 0.05\n",
    "sigma = 0.25\n",
    "div = 0\n",
    "pasos = 1000\n",
    "\n",
    "\n",
    "#auxiliares\n",
    "dt = T / pasos\n",
    "tasa_forward = math.exp((r - div) * dt)\n",
    "descuento = math.exp(-r * dt)\n",
    "#modelo CRR\n",
    "u = math.exp(sigma * math.pow(dt, 0.5))\n",
    "d = 1 / u\n",
    "#probabilidad de riesgo neutral\n",
    "q_prob = (tasa_forward - d) / (u - d)\n",
    "\n",
    "\n",
    "#Precios finales\n",
    "ST_precios=np.zeros((pasos+1))\n",
    "\n",
    "for i in range(0,pasos+1):\n",
    "    ST_precios[pasos-i] = math.pow(u, 2 * i - pasos) * S\n",
    "    \n",
    "ST_precios\n",
    "opcion_precios = np.zeros((pasos+1, pasos+1))\n",
    "\n",
    "\n"
   ]
  },
  {
   "cell_type": "markdown",
   "metadata": {},
   "source": [
    "En el caso de una opcion americana, en cada punto del nodo tendremos que evaluar si nos conviene ejercer o no. Eso se resuelve de manera muy simple."
   ]
  },
  {
   "cell_type": "code",
   "execution_count": null,
   "metadata": {},
   "outputs": [],
   "source": [
    "for j in range(1, pasos+1):\n",
    "    for i in range(0, pasos+1 - j):\n",
    "        # Calculo primero el valor como si no hubiera ejercicio temprano (europeo)\n",
    "        eur = q_prob * opcion_precios[i][pasos - j + 1] + (1  - q_prob) * opcion_precios[i + 1][pasos - j + 1]\n",
    "        #dependiendo del contrato, comparo el valor del valor 'europeo' contra ejercer en ese momento.\n",
    "        # S * math.pow(u,-2*i+pasos-j) codifica al arbol de los S\n",
    "        if tipo == \"P\":\n",
    "            opcion_precios[i][pasos - j] = descuento * max(eur, K - S * math.pow(u,-2*i+pasos-j))\n",
    "        elif tipo == \"C\":\n",
    "            opcion_precios[i][pasos - j] = descuento * max(eur, S * math.pow(u,-2*i+pasos-j) - K)\n",
    "\n",
    "precio_BIN_ame = opcion_precios[0][0]\n",
    "pp(precio_BIN_ame) \n",
    "\n"
   ]
  },
  {
   "cell_type": "markdown",
   "metadata": {},
   "source": [
    "# 3) Jugando con el pricer"
   ]
  },
  {
   "cell_type": "code",
   "execution_count": null,
   "metadata": {},
   "outputs": [],
   "source": [
    "import matplotlib.pyplot as plt"
   ]
  },
  {
   "cell_type": "markdown",
   "metadata": {},
   "source": [
    "## Precio y payoff con respecto a S"
   ]
  },
  {
   "cell_type": "code",
   "execution_count": null,
   "metadata": {},
   "outputs": [],
   "source": [
    "tipo = \"C\"\n",
    "S = 100\n",
    "K = 100\n",
    "T = 1\n",
    "r = 0.05\n",
    "sigma= 0.25\n",
    "div =0\n",
    "pasos = 1000\n",
    "\n",
    "S_MAX = 2*S\n",
    "S_vec = np.linspace(0,S_MAX,50)      \n",
    "precios = np.zeros(len(S_vec))\n",
    "payoff = np.zeros(len(S_vec))\n",
    "\n",
    "\n",
    "\n",
    "S_vec \n"
   ]
  },
  {
   "cell_type": "code",
   "execution_count": null,
   "metadata": {},
   "outputs": [],
   "source": [
    "for index in range(len(S_vec)):\n",
    "    precios[index] = opcion_europea_bin(tipo, S_vec[index], K, T, r, sigma, div, pasos)\n",
    "    payoff[index] = max(0, S_vec[index]-K)\n",
    "plt.plot(S_vec,precios,'r', label='Precio')\n",
    "plt.plot(S_vec,payoff,'g', label='Payoff')\n",
    "plt.axvline(x=K, color = 'black', linestyle='--')\n",
    "\n",
    "plt.legend()\n",
    "\n",
    "plt.xlabel('Spot')\n",
    "plt.ylabel('Precio del Call')\n",
    "plt.title('Precio/Payoff de una opcion Call a tiempo inicial con respecto al spot')\n",
    "\n",
    "plt.show()"
   ]
  },
  {
   "cell_type": "code",
   "execution_count": null,
   "metadata": {},
   "outputs": [],
   "source": [
    "tipo = \"P\"\n",
    "S = 100\n",
    "K = 100\n",
    "T = 1\n",
    "r = 0.05\n",
    "sigma= 0.25\n",
    "div =0\n",
    "pasos = 1000\n",
    "\n",
    "S_MAX = 2*S\n",
    "S_vec = np.linspace(0,S_MAX,50)      \n",
    "precios = np.zeros(len(S_vec))\n",
    "payoff = np.zeros(len(S_vec))\n",
    "\n",
    "\n",
    "\n",
    "\n",
    "for index in range(len(S_vec)):\n",
    "    precios[index] = opcion_europea_bin_c(tipo, S_vec[index], K, T, r, sigma, div, pasos)\n",
    "    payoff[index] = max(0, K-S_vec[index])\n",
    "plt.plot(S_vec,precios,'r', label='Precio')\n",
    "plt.plot(S_vec,payoff,'g', label='Payoff')\n",
    "plt.axvline(x=K, color = 'black', linestyle='--')\n",
    "\n",
    "plt.legend()\n",
    "\n",
    "plt.xlabel('Spot')\n",
    "plt.ylabel('Precio del Put')\n",
    "plt.title('Precio/Payoff de una opcion Put a tiempo inicial con respecto al spot')\n",
    "\n",
    "plt.show()"
   ]
  },
  {
   "cell_type": "code",
   "execution_count": null,
   "metadata": {},
   "outputs": [],
   "source": [
    "S_vec"
   ]
  },
  {
   "cell_type": "markdown",
   "metadata": {},
   "source": [
    "## Precio con respecto al Strike"
   ]
  },
  {
   "cell_type": "code",
   "execution_count": null,
   "metadata": {},
   "outputs": [],
   "source": [
    "tipo = \"C\"\n",
    "S = 100\n",
    "K = 100\n",
    "T = 1\n",
    "r = 0.05\n",
    "sigma= 0.25\n",
    "div =0\n",
    "pasos = 1000\n",
    "\n",
    "K_MAX = 2*S\n",
    "K_vec = np.linspace(0,K_MAX,50)      \n",
    "precios = np.zeros(len(K_vec))\n",
    "\n",
    "\n",
    "\n",
    "\n",
    "for index in range(len(K_vec)):\n",
    "    precios[index] = opcion_europea_bin_c(tipo, S, K_vec[index], T, r, sigma, div, pasos)\n",
    "\n",
    "plt.plot(K_vec,precios,'r', label='Strike')\n",
    "plt.axvline(x=S, color = 'black', linestyle='--')\n",
    "\n",
    "plt.legend()\n",
    "\n",
    "plt.xlabel('Strike')\n",
    "plt.ylabel('Precio del Call')\n",
    "plt.title('Precio de una opcion Call a tiempo inicial con respecto al strike')\n",
    "\n",
    "plt.show()"
   ]
  },
  {
   "cell_type": "code",
   "execution_count": null,
   "metadata": {},
   "outputs": [],
   "source": [
    "tipo = \"P\"\n",
    "S = 100\n",
    "K = 100\n",
    "T = 1\n",
    "r = 0.05\n",
    "sigma= 0.25\n",
    "div =0\n",
    "pasos = 1000\n",
    "\n",
    "K_MAX = 2*S\n",
    "K_vec = np.linspace(0,K_MAX,50)      \n",
    "precios = np.zeros(len(K_vec))\n",
    "payoff = np.zeros(len(K_vec))\n",
    "\n",
    "\n",
    "\n",
    "\n",
    "for index in range(len(K_vec)):\n",
    "    precios[index] = opcion_europea_bin_c(tipo, S, K_vec[index], T, r, sigma, div, pasos)\n",
    "\n",
    "plt.plot(K_vec,precios,'r', label='Strike')\n",
    "plt.axvline(x=S, color = 'black', linestyle='--')\n",
    "\n",
    "plt.legend()\n",
    "\n",
    "plt.xlabel('Spot')\n",
    "plt.ylabel('Precio del Put')\n",
    "plt.title('Precio de una opcion Put a tiempo inicial con respecto al strike')\n",
    "\n",
    "plt.show()"
   ]
  },
  {
   "cell_type": "markdown",
   "metadata": {},
   "source": [
    "## Precio con respecto a sigma"
   ]
  },
  {
   "cell_type": "code",
   "execution_count": null,
   "metadata": {},
   "outputs": [],
   "source": [
    "tipo = \"C\"\n",
    "S = 100\n",
    "K = 100\n",
    "T = 1\n",
    "r = 0.05\n",
    "sigma= 0.25\n",
    "div =0\n",
    "pasos = 1000\n",
    "\n",
    "sigma_MAX = 8*sigma\n",
    "sigma_vec = np.linspace(0,sigma_MAX,50)      \n",
    "precios = np.zeros(len(sigma_vec))\n",
    "\n",
    "for index in range(1,len(sigma_vec)):\n",
    "    precios[index] = opcion_europea_bin_c(tipo, S, K, T, r, sigma_vec[index], div, pasos)\n",
    "plt.plot(sigma_vec,precios,'r', label='Precio')\n",
    "plt.legend()\n",
    "\n",
    "plt.xlabel('Volatilidad implicita')\n",
    "plt.ylabel('Precio del Call')\n",
    "plt.title('Precio de una opcion Call a tiempo inicial con respecto a la volatilidad implicita')\n",
    "\n",
    "plt.show()"
   ]
  },
  {
   "cell_type": "code",
   "execution_count": null,
   "metadata": {},
   "outputs": [],
   "source": [
    "tipo = \"P\"\n",
    "S = 100\n",
    "K = 100\n",
    "T = 1\n",
    "r = 0.05\n",
    "sigma= 0.25\n",
    "div =0\n",
    "pasos = 1000\n",
    "\n",
    "sigma_MAX = 8*sigma\n",
    "sigma_vec = np.linspace(0,sigma_MAX,50)      \n",
    "precios = np.zeros(len(sigma_vec))\n",
    "\n",
    "for index in range(1,len(sigma_vec)):\n",
    "    precios[index] = opcion_europea_bin_c(tipo, S, K, T, r, sigma_vec[index], div, pasos)\n",
    "plt.plot(sigma_vec,precios,'r', label='Precio')\n",
    "plt.legend()\n",
    "\n",
    "plt.xlabel('Volatilidad implicita')\n",
    "plt.ylabel('Precio del Put')\n",
    "plt.title('Precio de una opcion Put a tiempo inicial con respecto a la volatilidad implicita')\n",
    "\n",
    "plt.show()"
   ]
  },
  {
   "cell_type": "markdown",
   "metadata": {},
   "source": [
    "## Precio con respecto a TTM"
   ]
  },
  {
   "cell_type": "code",
   "execution_count": null,
   "metadata": {},
   "outputs": [],
   "source": [
    "tipo = \"C\"\n",
    "S = 100\n",
    "K = 100\n",
    "T = 1\n",
    "r = 0.05\n",
    "sigma= 0.25\n",
    "div =0.5\n",
    "pasos = 1000\n",
    "\n",
    "T_MAX = 2*T\n",
    "T_vec = np.linspace(0,T_MAX,50)      \n",
    "precios = np.zeros(len(T_vec))\n",
    "\n",
    "for index in range(1,len(T_vec)):\n",
    "    precios[index] = opcion_europea_bin_c(tipo, S, K, T_vec[index], r, sigma, div, pasos)\n",
    "plt.plot(T_vec,precios,'r', label='Precio')\n",
    "plt.legend()\n",
    "\n",
    "plt.xlabel('Tiempo de expiracion en años')\n",
    "plt.ylabel('Precio del Call')\n",
    "plt.title('Precio de una opcion Call a tiempo inicial con respecto al tiempo de expiracion')\n",
    "\n",
    "plt.show()"
   ]
  },
  {
   "cell_type": "markdown",
   "metadata": {},
   "source": [
    "## Convergencia del Arbol Binomial"
   ]
  },
  {
   "cell_type": "code",
   "execution_count": null,
   "metadata": {},
   "outputs": [],
   "source": [
    "tipo = \"C\"\n",
    "S = 100\n",
    "K = 100\n",
    "T = 1\n",
    "r = 0.05\n",
    "sigma= 0.25\n",
    "div =0\n",
    "\n",
    "pasos_vec = [1,2,3,4,5,6,7,8,9,10,12,14,16,18,20,25,30,40,50,75,100,125,150,200,250,300]      \n",
    "precios = np.zeros(len(pasos_vec))\n",
    "\n",
    "for index in range(len(pasos_vec)):\n",
    "    precios[index] = opcion_europea_bin(tipo, S, K, T, r, sigma, div, pasos_vec[index])\n",
    "    "
   ]
  },
  {
   "cell_type": "code",
   "execution_count": null,
   "metadata": {},
   "outputs": [],
   "source": [
    "plt.plot(pasos_vec,precios,'*', label='Precio')\n",
    "plt.legend()\n",
    "\n",
    "plt.xlabel('Pasos del arbol Binomial')\n",
    "plt.ylabel('Precio del Call')\n",
    "plt.title('Precio de una opcion Call a tiempo inicial con respecto al numero de pasos del arbol')\n",
    "\n",
    "plt.show()"
   ]
  },
  {
   "cell_type": "markdown",
   "metadata": {},
   "source": [
    "## Europeas - Americanas\n"
   ]
  },
  {
   "cell_type": "markdown",
   "metadata": {},
   "source": [
    "### CALL sin dividendos"
   ]
  },
  {
   "cell_type": "code",
   "execution_count": null,
   "metadata": {},
   "outputs": [],
   "source": [
    "tipo = \"C\"\n",
    "K = 100\n",
    "T = 1\n",
    "r = 0.05\n",
    "sigma= 0.25\n",
    "div =0\n",
    "pasos = 200\n",
    "\n",
    "S_vec = np.linspace(0.5*S,1.5*S,50)      \n",
    "precios_eur = np.zeros(len(S_vec))\n",
    "precios_ame = np.zeros(len(S_vec))\n",
    "\n",
    "payoff = np.zeros(len(S_vec))\n",
    "\n",
    "\n",
    "for index in range(len(S_vec)):\n",
    "    precios_eur[index] = opcion_europea_bin(tipo, S_vec[index], K, T, r, sigma, div, pasos)\n",
    "    precios_ame[index] = opcion_americana_bin(tipo, S_vec[index], K, T, r, sigma, div, pasos)\n",
    "    \n",
    "    payoff[index] = max(0, S_vec[index]-K)\n",
    "\n",
    "plt.plot(S_vec,precios_eur,'r', label='Precio Europea')\n",
    "plt.plot(S_vec,precios_ame,'b', label='Precio Americana')\n",
    "\n",
    "plt.plot(S_vec,payoff,'g', label='Payoff')\n",
    "plt.axvline(x=K, color = 'black', linestyle='--')\n",
    "\n",
    "plt.legend()\n",
    "\n",
    "plt.xlabel('Spot')\n",
    "plt.ylabel('Precio del Call')\n",
    "plt.title('Precio/Payoff de una opcion Call a tiempo inicial con respecto al spot')\n",
    "\n",
    "plt.show()\n",
    "\n",
    "\n",
    "print(\"Precio Opcion Europea: \", opcion_europea_bin(tipo, S, K, T, r, sigma, div, pasos))\n",
    "print(\"Precio Opcion Americana: \", opcion_americana_bin(tipo, S, K, T, r, sigma, div, pasos))\n"
   ]
  },
  {
   "cell_type": "markdown",
   "metadata": {},
   "source": [
    "### PUT sin dividendos"
   ]
  },
  {
   "cell_type": "code",
   "execution_count": null,
   "metadata": {},
   "outputs": [],
   "source": [
    "tipo = \"P\"\n",
    "\n",
    "precios_eur = np.zeros(len(S_vec))\n",
    "precios_ame = np.zeros(len(S_vec))\n",
    "\n",
    "payoff = np.zeros(len(S_vec))\n",
    "\n",
    "for index in range(len(S_vec)):\n",
    "    precios_eur[index] = opcion_europea_bin(tipo, S_vec[index], K, T, r, sigma, div, pasos)\n",
    "    precios_ame[index] = opcion_americana_bin(tipo, S_vec[index], K, T, r, sigma, div, pasos)\n",
    "    \n",
    "    payoff[index] = max(0, K -S_vec[index])\n",
    "\n",
    "plt.plot(S_vec,precios_eur,'r', label='Precio Europea')\n",
    "plt.plot(S_vec,precios_ame,'b', label='Precio Americana')\n",
    "\n",
    "plt.plot(S_vec,payoff,'g', label='Payoff')\n",
    "plt.axvline(x=K, color = 'black', linestyle='--')\n",
    "\n",
    "plt.legend()\n",
    "\n",
    "plt.xlabel('Spot')\n",
    "plt.ylabel('Precio del Put')\n",
    "plt.title('Precio/Payoff de una opcion Put a tiempo inicial con respecto al spot')\n",
    "\n",
    "plt.show()\n",
    "\n",
    "\n",
    "print(\"Precio Opcion Europea: \", opcion_europea_bin(tipo, S, K, T, r, sigma, div, pasos))\n",
    "print(\"Precio Opcion Americana: \", opcion_americana_bin(tipo, S, K, T, r, sigma, div, pasos))\n"
   ]
  },
  {
   "cell_type": "markdown",
   "metadata": {},
   "source": [
    "### CALL con dividendos"
   ]
  },
  {
   "cell_type": "code",
   "execution_count": null,
   "metadata": {},
   "outputs": [],
   "source": [
    "tipo = \"C\"\n",
    "\n",
    "div = 0.1\n",
    "\n",
    "precios_eur = np.zeros(len(S_vec))\n",
    "precios_ame = np.zeros(len(S_vec))\n",
    "\n",
    "payoff = np.zeros(len(S_vec))\n",
    "\n",
    "for index in range(len(S_vec)):\n",
    "    precios_eur[index] = opcion_europea_bin(tipo, S_vec[index], K, T, r, sigma, div, pasos)\n",
    "    precios_ame[index] = opcion_americana_bin(tipo, S_vec[index], K, T, r, sigma, div, pasos)\n",
    "    \n",
    "    payoff[index] = max(0, S_vec[index]-K)\n",
    "\n",
    "plt.plot(S_vec,precios_eur,'r', label='Precio Europea')\n",
    "plt.plot(S_vec,precios_ame,'b', label='Precio Americana')\n",
    "\n",
    "plt.plot(S_vec,payoff,'g', label='Payoff')\n",
    "plt.axvline(x=K, color = 'black', linestyle='--')\n",
    "\n",
    "plt.legend()\n",
    "\n",
    "plt.xlabel('Spot')\n",
    "plt.ylabel('Precio del Call')\n",
    "plt.title('Precio/Payoff de una opcion Call a tiempo inicial con respecto al spot')\n",
    "\n",
    "plt.show()\n",
    "\n",
    "\n",
    "print(\"Precio Opcion Europea: \", opcion_europea_bin(tipo, S, K, T, r, sigma, div, pasos))\n",
    "print(\"Precio Opcion Americana: \", opcion_americana_bin(tipo, S, K, T, r, sigma, div, pasos))"
   ]
  },
  {
   "cell_type": "markdown",
   "metadata": {},
   "source": [
    "### PUT con dividendos"
   ]
  },
  {
   "cell_type": "code",
   "execution_count": null,
   "metadata": {},
   "outputs": [],
   "source": [
    "tipo = \"P\"\n",
    "\n",
    "div = 0.1\n",
    "\n",
    "precios_eur = np.zeros(len(S_vec))\n",
    "precios_ame = np.zeros(len(S_vec))\n",
    "\n",
    "payoff = np.zeros(len(S_vec))\n",
    "\n",
    "for index in range(len(S_vec)):\n",
    "    precios_eur[index] = opcion_europea_bin(tipo, S_vec[index], K, T, r, sigma, div, pasos)\n",
    "    precios_ame[index] = opcion_americana_bin(tipo, S_vec[index], K, T, r, sigma, div, pasos)\n",
    "    \n",
    "    payoff[index] = max(0, K -S_vec[index])\n",
    "\n",
    "plt.plot(S_vec,precios_eur,'r', label='Precio Europea')\n",
    "plt.plot(S_vec,precios_ame,'b', label='Precio Americana')\n",
    "\n",
    "plt.plot(S_vec,payoff,'g', label='Payoff')\n",
    "plt.axvline(x=K, color = 'black', linestyle='--')\n",
    "\n",
    "plt.legend()\n",
    "\n",
    "plt.xlabel('Spot')\n",
    "plt.ylabel('Precio del Put')\n",
    "plt.title('Precio/Payoff de una opcion Put a tiempo inicial con respecto al spot')\n",
    "\n",
    "plt.show()\n",
    "\n",
    "\n",
    "print(\"Precio Opcion Europea: \", opcion_europea_bin(tipo, S, K, T, r, sigma, div, pasos))\n",
    "print(\"Precio Opcion Americana: \", opcion_americana_bin(tipo, S, K, T, r, sigma, div, pasos))"
   ]
  },
  {
   "cell_type": "code",
   "execution_count": null,
   "metadata": {},
   "outputs": [],
   "source": [
    "div = 0\n",
    "tipo = \"P\"\n",
    "r = 0.05\n",
    "\n",
    "precios_eur = np.zeros(len(T_vec))\n",
    "precios_ame = np.zeros(len(T_vec))\n",
    "\n",
    "\n",
    "\n",
    "for index in range(1,len(T_vec)):\n",
    "    precios_eur[index] = opcion_europea_bin(tipo, S, K, T_vec[index], r, sigma, div, pasos)\n",
    "    precios_ame[index] = opcion_americana_bin(tipo, S, K, T_vec[index], r, sigma, div, pasos)\n",
    "    \n",
    "    payoff[index] = max(0, S_vec[index]-K)\n",
    "\n",
    "plt.plot(T_vec,precios_eur,'r', label='Precio Europea')\n",
    "plt.plot(T_vec,precios_ame,'b', label='Precio Americana')\n",
    "\n",
    "plt.legend()\n",
    "\n",
    "plt.xlabel('TTM')\n",
    "plt.ylabel('Precio del Put')\n",
    "plt.title('Precio de una opcion Put a tiempo inicial con respecto al TTM')\n",
    "\n",
    "plt.show()\n",
    "\n",
    "\n",
    "print(\"Precio Opcion Europea: \", opcion_europea_bin(tipo, S, K, T, r, sigma, div, pasos))\n",
    "print(\"Precio Opcion Americana: \", opcion_americana_bin(tipo, S, K, T, r, sigma, div, pasos))"
   ]
  },
  {
   "cell_type": "markdown",
   "metadata": {},
   "source": [
    "## 4) Black Scholes"
   ]
  },
  {
   "cell_type": "markdown",
   "metadata": {},
   "source": [
    "Si llegamos hasta aca, entonces estamos en condiciones de ver la formula de Black Scholes. Veremos el modelo en la Clase 4"
   ]
  },
  {
   "cell_type": "code",
   "execution_count": null,
   "metadata": {},
   "outputs": [],
   "source": [
    "tipo = \"C\"\n",
    "K = 100\n",
    "T = 1\n",
    "r = 0.05\n",
    "sigma= 0.25\n",
    "div =0\n",
    "\n",
    "from scipy.stats import norm\n"
   ]
  },
  {
   "cell_type": "code",
   "execution_count": null,
   "metadata": {},
   "outputs": [],
   "source": [
    "\n",
    "\n",
    "#Defino los ds\n",
    "d1 = (math.log(S / K) + (r - div + 0.5 * sigma * sigma) * T) / sigma / math.sqrt(T)\n",
    "d2 = (math.log(S / K) + (r - div - 0.5 * sigma * sigma) * T) / sigma / math.sqrt(T)\n",
    "\n",
    "if tipo == \"C\":\n",
    "    precio_BS = math.exp(-div*T) *S * norm.cdf(d1) - K * math.exp(-r * T) * norm.cdf(d2)\n",
    "elif tipo == \"P\":\n",
    "    precio_BS = K * math.exp(-r * T) * norm.cdf(-d2) - math.exp(-div*T) * S * norm.cdf(-d1)\n",
    "    \n",
    "precio_BS    "
   ]
  },
  {
   "cell_type": "markdown",
   "metadata": {},
   "source": [
    "## Convergencia del Binomial hacia el precio de Black Scholes"
   ]
  },
  {
   "cell_type": "code",
   "execution_count": null,
   "metadata": {},
   "outputs": [],
   "source": [
    "tipo = \"P\"\n",
    "S = 100\n",
    "K = 100\n",
    "T = 1\n",
    "r = 0.05\n",
    "sigma= 0.25\n",
    "div =0.2\n",
    "\n",
    "pasos_vec = [1,2,3,4,5,6,7,8,9,10,12,14,16,18,20,25,30,40,50,75,100,125,150,200,250,300]      \n",
    "precios = np.zeros(len(pasos_vec))\n",
    "\n",
    "for index in range(len(pasos_vec)):\n",
    "    precios[index] = opcion_europea_bin(tipo, S, K, T, r, sigma, div, pasos_vec[index])\n",
    " \n",
    "precio_BS = opcion_europea_bs(tipo, S, K, T, r, sigma, div)\n",
    "\n"
   ]
  },
  {
   "cell_type": "code",
   "execution_count": null,
   "metadata": {},
   "outputs": [],
   "source": [
    "plt.axhline(y=precio_BS, color = 'black', linestyle='--', label='Precio BlackSholes')\n",
    "plt.plot(pasos_vec,precios,'*', label='Precio Binomial')\n",
    "\n",
    "plt.legend()\n",
    "\n",
    "plt.xlabel('Pasos del arbol Binomial')\n",
    "plt.ylabel('Precio de la opcion')\n",
    "plt.title('Precio de una opcion a tiempo inicial con respecto al numero de pasos del arbol')\n",
    "\n",
    "plt.show()"
   ]
  },
  {
   "cell_type": "markdown",
   "metadata": {},
   "source": [
    "## Convergencia del Binomial (con Americana) hacia el precio de Black Scholes"
   ]
  },
  {
   "cell_type": "code",
   "execution_count": null,
   "metadata": {},
   "outputs": [],
   "source": [
    "tipo = \"P\"\n",
    "S = 100\n",
    "K = 100\n",
    "T = 1\n",
    "r = 0.05\n",
    "sigma= 0.25\n",
    "div =0.\n",
    "\n",
    "pasos_vec = [1,2,3,4,5,6,7,8,9,10,12,14,16,18,20,25,30,40,50,75,100,125,150,200,250,300]      \n",
    "precios_eur = np.zeros(len(pasos_vec))\n",
    "precios_ame = np.zeros(len(pasos_vec))\n",
    "\n",
    "\n",
    "for index in range(len(pasos_vec)):\n",
    "    precios_eur[index] = opcion_europea_bin(tipo, S, K, T, r, sigma, div, pasos_vec[index])\n",
    "    precios_ame[index] = opcion_americana_bin(tipo, S, K, T, r, sigma, div, pasos_vec[index])\n",
    " \n",
    "precio_BS = opcion_europea_bs(tipo, S, K, T, r, sigma, div)\n",
    "\n"
   ]
  },
  {
   "cell_type": "code",
   "execution_count": null,
   "metadata": {},
   "outputs": [],
   "source": [
    "plt.axhline(y=precio_BS, color = 'black', linestyle='--', label='Precio BlackSholes')\n",
    "plt.plot(pasos_vec,precios_eur,'*', label='Precio Binomial Europea')\n",
    "plt.plot(pasos_vec,precios_ame,'.', label='Precio Binomial Americana')\n",
    "\n",
    "plt.legend()\n",
    "\n",
    "plt.xlabel('Pasos del arbol Binomial')\n",
    "plt.ylabel('Precio de la opcion')\n",
    "plt.title('Precio de una opcion Call a tiempo inicial con respecto al numero de pasos del arbol')\n",
    "\n",
    "plt.show()"
   ]
  },
  {
   "cell_type": "markdown",
   "metadata": {},
   "source": [
    "## 5) Mercado VS Modelo\n",
    "## a) Saco una opcion del mercado y calculo su precio - NYSE"
   ]
  },
  {
   "cell_type": "code",
   "execution_count": null,
   "metadata": {},
   "outputs": [],
   "source": [
    "# Tomo un ticker e invoco al codigo de la clase pasada\n",
    "\n",
    "from Codigo.data_nyse import *\n",
    "ticker = 'TSLA'\n",
    "data = yf.Ticker(ticker)\n",
    "#Genero el panel\n",
    "panel_opciones = obtener_panel_opciones_nyse(ticker, True)\n",
    "\n"
   ]
  },
  {
   "cell_type": "code",
   "execution_count": null,
   "metadata": {},
   "outputs": [],
   "source": [
    "panel_opciones"
   ]
  },
  {
   "cell_type": "code",
   "execution_count": null,
   "metadata": {},
   "outputs": [],
   "source": [
    "# Tomo los TTMs y me quedo con alguno de ellos\n",
    "TTMs = list(set(panel_opciones.TTM.values))\n",
    "TTMs.sort()\n",
    "\n",
    "TTM=TTMs[4]\n",
    "TTM"
   ]
  },
  {
   "cell_type": "code",
   "execution_count": null,
   "metadata": {},
   "outputs": [],
   "source": [
    "# elijo un tipo de opcion y tomo los strikes\n",
    "CP = \"P\"\n",
    "Ks = panel_opciones[(panel_opciones.TTM == TTM) & (panel_opciones.CallPut == CP)].Strike.values\n",
    "Ks_indexes = panel_opciones[(panel_opciones.TTM == TTM) & (panel_opciones.CallPut == CP)].Strike.index\n",
    "\n",
    "Ks_indexes"
   ]
  },
  {
   "cell_type": "code",
   "execution_count": null,
   "metadata": {},
   "outputs": [],
   "source": [
    "#Tomo el ATM strike\n",
    "K_atm_index = np.abs(Ks - panel_opciones.Spot.values[0]).argmin()\n",
    "\n",
    "K_ATM = Ks[K_atm_index]\n",
    "K_ATM\n",
    "K_ATM_index_df = panel_opciones[(panel_opciones.TTM == TTM) & (panel_opciones.CallPut == CP)&(panel_opciones.Strike==K_ATM)].Strike.index[0]\n",
    "K_ATM_index_df\n"
   ]
  },
  {
   "cell_type": "code",
   "execution_count": null,
   "metadata": {},
   "outputs": [],
   "source": [
    "panel_opciones[panel_opciones.index==543]"
   ]
  },
  {
   "cell_type": "code",
   "execution_count": null,
   "metadata": {},
   "outputs": [],
   "source": [
    "# Saco de los datos de mercado los parametros necesarios para pricear\n",
    "\n",
    "\n",
    "CP = 'C'\n",
    "S = panel_opciones.Spot.values[K_ATM_index_df]\n",
    "\n",
    "K = panel_opciones.Strike.values[K_ATM_index_df]\n",
    "T = (panel_opciones.TTM.values[K_ATM_index_df])/365\n",
    "\n",
    "sigma = panel_opciones.impliedVolatility.values[K_ATM_index_df]\n",
    "\n",
    "#sigma = panel_opciones[(panel_opciones.TTM == TTM) & (panel_opciones.CallPut == CP) & (panel_opciones.Strike == K_ATM)].impliedVolatility.values[0]\n",
    "try:\n",
    "    div = float(data.info['dividendYield'])\n",
    "except:\n",
    "    div = 0.0 \n",
    "    \n",
    "pasos = 2000\n",
    "\n",
    "\n"
   ]
  },
  {
   "cell_type": "code",
   "execution_count": null,
   "metadata": {},
   "outputs": [],
   "source": [
    "div\n"
   ]
  },
  {
   "cell_type": "code",
   "execution_count": null,
   "metadata": {},
   "outputs": [],
   "source": [
    "#tasa libre de riesgo de Libor1M - https://www.global-rates.com/en/interest-rates/libor/libor.aspx\n",
    "r = 0.0543  #Libor1M**\n",
    "\n",
    "   "
   ]
  },
  {
   "cell_type": "code",
   "execution_count": null,
   "metadata": {},
   "outputs": [],
   "source": [
    "# Volatilidad sacada del dataframe\n",
    "sigma"
   ]
  },
  {
   "cell_type": "code",
   "execution_count": null,
   "metadata": {},
   "outputs": [],
   "source": [
    "# dividendo sacada de data.info\n",
    "div\n"
   ]
  },
  {
   "cell_type": "code",
   "execution_count": null,
   "metadata": {},
   "outputs": [],
   "source": [
    "#spot sacada de data.info\n",
    "S"
   ]
  },
  {
   "cell_type": "code",
   "execution_count": null,
   "metadata": {},
   "outputs": [],
   "source": [
    "# Llamo a los 2 pricers y comparo con el precio de mercado\n",
    "\n",
    "precio_modelo_bin = opcion_americana_bin(CP, S, K, T, r, sigma, div, pasos)\n",
    "print(\"Precio Modelo Binomial: \", precio_modelo_bin)\n",
    "\n",
    "precio_modelo_bs = opcion_europea_bs(CP, S, K, T, r, sigma, div)\n",
    "print(\"Precio Modelo BS: \", precio_modelo_bs)\n",
    "\n",
    "precio_mercado_last = panel_opciones[(panel_opciones.TTM == TTM) & (panel_opciones.CallPut == CP) & (panel_opciones.Strike == K_ATM)].Last.values[0] \n",
    "\n",
    "precio_mercado_avg = (panel_opciones[(panel_opciones.TTM == TTM) & (panel_opciones.CallPut == CP) & (panel_opciones.Strike == K_ATM)].Bid.values[0]#\n",
    "+panel_opciones[(panel_opciones.TTM == TTM) & (panel_opciones.CallPut == CP) & (panel_opciones.Strike == K_ATM)].Ask.values[0]\n",
    ")/2\n",
    "\n",
    "print(\"Precio Mercado Last: \", precio_mercado_last)\n",
    "\n",
    "print(\"Precio Mercado Avg: \", precio_mercado_avg)\n",
    "\n"
   ]
  },
  {
   "cell_type": "code",
   "execution_count": null,
   "metadata": {},
   "outputs": [],
   "source": [
    "#Error relativo entre valor de mercado y valor de modelo:\n",
    "\n",
    "print(\"Error relativo entre modelo y mercado (en %): \", (precio_mercado_avg-precio_modelo_bs)/precio_mercado_avg*100)"
   ]
  },
  {
   "cell_type": "markdown",
   "metadata": {},
   "source": [
    "## b) Saco una opcion del mercado y calculo su precio - BYMA\n",
    "\n",
    "\n",
    "## Ejercicio"
   ]
  }
 ],
 "metadata": {
  "kernelspec": {
   "display_name": "Python 3 (ipykernel)",
   "language": "python",
   "name": "python3"
  },
  "language_info": {
   "codemirror_mode": {
    "name": "ipython",
    "version": 3
   },
   "file_extension": ".py",
   "mimetype": "text/x-python",
   "name": "python",
   "nbconvert_exporter": "python",
   "pygments_lexer": "ipython3",
   "version": "3.9.13"
  },
  "vscode": {
   "interpreter": {
    "hash": "e2a6dae1680d5d703b715907ac46bd7a3965acafb3f09cc0a45412b83daff840"
   }
  }
 },
 "nbformat": 4,
 "nbformat_minor": 4
}
