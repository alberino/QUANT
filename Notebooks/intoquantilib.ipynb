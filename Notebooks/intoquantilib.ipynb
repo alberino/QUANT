{
 "cells": [
  {
   "cell_type": "markdown",
   "metadata": {},
   "source": [
    "# Derivados Financieros 2021 - Clase 5\n",
    "## Otros modelos de pricing - QuantLib\n",
    "\n",
    "    3) QuantLib\n",
    " "
   ]
  },
  {
   "cell_type": "markdown",
   "metadata": {},
   "source": [
    "# 3) QuantLib o Introduccion a una Verdadera plataforma de pricing/riesgo"
   ]
  },
  {
   "cell_type": "code",
   "execution_count": 54,
   "metadata": {},
   "outputs": [],
   "source": [
    "from Codigo.utils_plots import *\n",
    "import QuantLib as ql"
   ]
  },
  {
   "cell_type": "markdown",
   "metadata": {},
   "source": [
    "### Opciones"
   ]
  },
  {
   "cell_type": "markdown",
   "metadata": {},
   "source": [
    "### Supongamos una opcion de AAPL con precio strike de 450 expirando el 16 de octubre de 2020. Supongamos que el spot es 440. La vol implicita es sabida que es 31%, y tiene un dividendo de 0.75%. Valuemos la opcion al dia de hoy (10 de Agosto 2020)"
   ]
  },
  {
   "cell_type": "markdown",
   "metadata": {},
   "source": [
    "#### Definimos los inputs"
   ]
  },
  {
   "cell_type": "code",
   "execution_count": 55,
   "metadata": {},
   "outputs": [
    {
     "data": {
      "text/plain": [
       "1"
      ]
     },
     "execution_count": 55,
     "metadata": {},
     "output_type": "execute_result"
    }
   ],
   "source": [
    "S = 456.30\n",
    "K = 460\n",
    "sigma = 0.3394 # the historical vols for a year\n",
    "div =  0.075\n",
    "r = 0.0013\n",
    "\n",
    "option_type = ql.Option.Call\n",
    "\n",
    "option_type"
   ]
  },
  {
   "cell_type": "markdown",
   "metadata": {},
   "source": [
    "#### Para las fechas QuantLib es mas preciso. Pide convenciones y calendarios"
   ]
  },
  {
   "cell_type": "code",
   "execution_count": 56,
   "metadata": {},
   "outputs": [
    {
     "data": {
      "text/plain": [
       "Date(16,10,2020)"
      ]
     },
     "execution_count": 56,
     "metadata": {},
     "output_type": "execute_result"
    }
   ],
   "source": [
    "maturity_date = ql.Date(16, 10, 2020)\n",
    "calculation_date = ql.Date(6, 8, 2020)\n",
    "\n",
    "day_count = ql.Actual365Fixed()\n",
    "\n",
    "\n",
    "ql.Argentina()\n",
    "calendar = ql.UnitedStates()\n",
    "ql.Settings.instance().evaluationDate = calculation_date\n",
    "\n",
    "\n",
    "maturity_date"
   ]
  },
  {
   "cell_type": "markdown",
   "metadata": {},
   "source": [
    "#### Aqui construimos a la opcion europea"
   ]
  },
  {
   "cell_type": "code",
   "execution_count": 57,
   "metadata": {},
   "outputs": [],
   "source": [
    "payoff = ql.PlainVanillaPayoff(option_type, K)\n",
    "\n",
    "exercise = ql.EuropeanExercise(maturity_date)\n",
    "european_option = ql.VanillaOption(payoff, exercise)\n",
    "\n"
   ]
  },
  {
   "cell_type": "markdown",
   "metadata": {},
   "source": [
    "#### Aca constuimos el proceso de Black Sholes Merton"
   ]
  },
  {
   "cell_type": "markdown",
   "metadata": {},
   "source": [
    "##### El objeto spot"
   ]
  },
  {
   "cell_type": "code",
   "execution_count": 58,
   "metadata": {},
   "outputs": [],
   "source": [
    "spot_obj = ql.QuoteHandle(ql.SimpleQuote(S))"
   ]
  },
  {
   "cell_type": "code",
   "execution_count": 59,
   "metadata": {},
   "outputs": [
    {
     "data": {
      "text/plain": [
       "456.3"
      ]
     },
     "execution_count": 59,
     "metadata": {},
     "output_type": "execute_result"
    }
   ],
   "source": [
    "spot_obj.value()"
   ]
  },
  {
   "cell_type": "markdown",
   "metadata": {},
   "source": [
    "##### El objeto curva de descuento (flat en este caso, constante)"
   ]
  },
  {
   "cell_type": "code",
   "execution_count": 60,
   "metadata": {},
   "outputs": [],
   "source": [
    "rate_obj = ql.YieldTermStructureHandle(ql.FlatForward(calculation_date, \n",
    "                                                            r, \n",
    "                                                    day_count))"
   ]
  },
  {
   "cell_type": "markdown",
   "metadata": {},
   "source": [
    "##### El objeto curva de dividendos (flat en este caso, constante)"
   ]
  },
  {
   "cell_type": "code",
   "execution_count": 61,
   "metadata": {},
   "outputs": [],
   "source": [
    "dividend_obj = ql.YieldTermStructureHandle(ql.FlatForward(calculation_date, \n",
    "                                                      div, \n",
    "                                                      day_count))"
   ]
  },
  {
   "cell_type": "markdown",
   "metadata": {},
   "source": [
    "##### El objeto volatilidad (flat en este caso, constante)"
   ]
  },
  {
   "cell_type": "code",
   "execution_count": 62,
   "metadata": {},
   "outputs": [],
   "source": [
    "vol_obj = ql.BlackVolTermStructureHandle(ql.BlackConstantVol(calculation_date, \n",
    "                                                                 calendar, \n",
    "                                                                 sigma, \n",
    "                                                             day_count))"
   ]
  },
  {
   "cell_type": "code",
   "execution_count": null,
   "metadata": {},
   "outputs": [],
   "source": []
  },
  {
   "cell_type": "code",
   "execution_count": 63,
   "metadata": {},
   "outputs": [],
   "source": [
    "##### El proceso propiamente dicho"
   ]
  },
  {
   "cell_type": "code",
   "execution_count": 64,
   "metadata": {},
   "outputs": [],
   "source": [
    "bsm_process = ql.BlackScholesMertonProcess(spot_obj, \n",
    "                                        dividend_obj, \n",
    "                                        rate_obj, \n",
    "                                        vol_obj)"
   ]
  },
  {
   "cell_type": "markdown",
   "metadata": {},
   "source": [
    "## Modelos de precio"
   ]
  },
  {
   "cell_type": "markdown",
   "metadata": {},
   "source": [
    "###  `AnalyticEuropeanEngine` (Black Scholes)"
   ]
  },
  {
   "cell_type": "code",
   "execution_count": 65,
   "metadata": {},
   "outputs": [
    {
     "name": "stdout",
     "output_type": "stream",
     "text": [
      "El precio teorico usando el modelo de BS es:  22.340433141477693\n"
     ]
    }
   ],
   "source": [
    "european_option.setPricingEngine(ql.AnalyticEuropeanEngine(bsm_process))\n",
    "\n",
    "bs_price = european_option.NPV()\n",
    "print(\"El precio teorico usando el modelo de BS es: \", bs_price)"
   ]
  },
  {
   "cell_type": "markdown",
   "metadata": {},
   "source": [
    "###  `FdBlackScholesVanillaEngine` (Diferencias Finitas)"
   ]
  },
  {
   "cell_type": "code",
   "execution_count": 66,
   "metadata": {},
   "outputs": [
    {
     "name": "stdout",
     "output_type": "stream",
     "text": [
      "El precio teorico usando el modelo de Dif. Finitas es:  22.350547133690334\n"
     ]
    }
   ],
   "source": [
    "european_option.setPricingEngine(ql.FdBlackScholesVanillaEngine(bsm_process))\n",
    "\n",
    "fd_price = european_option.NPV()\n",
    "print(\"El precio teorico usando el modelo de Dif. Finitas es: \", fd_price)"
   ]
  },
  {
   "cell_type": "markdown",
   "metadata": {},
   "source": [
    "###  `MCEuropeanEngine` (Montecarlo)"
   ]
  },
  {
   "cell_type": "code",
   "execution_count": 67,
   "metadata": {},
   "outputs": [
    {
     "name": "stdout",
     "output_type": "stream",
     "text": [
      "El precio teorico usando el modelo de MonteCarlo es:  22.2169237845418\n"
     ]
    }
   ],
   "source": [
    "european_option.setPricingEngine(ql.MCEuropeanEngine(bsm_process, \"PseudoRandom\", timeSteps=20, requiredSamples=500000))\n",
    "\n",
    "mc_price = european_option.NPV()\n",
    "print(\"El precio teorico usando el modelo de MonteCarlo es: \",  mc_price)"
   ]
  },
  {
   "cell_type": "code",
   "execution_count": 68,
   "metadata": {},
   "outputs": [
    {
     "data": {
      "text/plain": [
       "0.05572633566127788"
      ]
     },
     "execution_count": 68,
     "metadata": {},
     "output_type": "execute_result"
    }
   ],
   "source": [
    "european_option.errorEstimate()"
   ]
  },
  {
   "cell_type": "markdown",
   "metadata": {},
   "source": [
    "###  `BinomialVanillaEngine` (Binomial)"
   ]
  },
  {
   "cell_type": "code",
   "execution_count": 69,
   "metadata": {},
   "outputs": [
    {
     "name": "stdout",
     "output_type": "stream",
     "text": [
      "El precio teorico usando el modelo Binomial es:  22.340372556198265\n"
     ]
    }
   ],
   "source": [
    "european_option.setPricingEngine(ql.BinomialVanillaEngine(bsm_process, \"crr\", 1000))\n",
    "\n",
    "bin_price = european_option.NPV()\n",
    "print(\"El precio teorico usando el modelo Binomial es: \",  bin_price)"
   ]
  },
  {
   "cell_type": "markdown",
   "metadata": {},
   "source": [
    "# Comparacion de TODOS* los modelos vistos (caso de juguete)"
   ]
  },
  {
   "cell_type": "markdown",
   "metadata": {},
   "source": [
    "### Fijo los parametros"
   ]
  },
  {
   "cell_type": "code",
   "execution_count": 70,
   "metadata": {},
   "outputs": [],
   "source": [
    "S = 100\n",
    "K = 100\n",
    "sigma = 0.25 # the historical vols for a year\n",
    "div =  0.0\n",
    "r = 0.05\n",
    "\n",
    "tipo = 'C'\n",
    "\n",
    "option_type = ql.Option.Call\n",
    "\n",
    "maturity_date = ql.Date(10, 8, 2021)\n",
    "calculation_date = ql.Date(10, 8, 2020)\n",
    "day_count = ql.Actual365Fixed()\n",
    "calendar = ql.UnitedStates()\n",
    "ql.Settings.instance().evaluationDate = calculation_date\n",
    "\n",
    "T = 1\n",
    "\n"
   ]
  },
  {
   "cell_type": "markdown",
   "metadata": {},
   "source": [
    "## Pricers vistos en clase"
   ]
  },
  {
   "cell_type": "markdown",
   "metadata": {},
   "source": [
    "### Importo los pricers vistos en clase"
   ]
  },
  {
   "cell_type": "code",
   "execution_count": 73,
   "metadata": {},
   "outputs": [],
   "source": [
    "from Codigo.opcion_europea_bs import opcion_europea_bs\n",
    "from Codigo.opcion_europea_mc import opcion_europea_mc\n",
    "from Codigo.opcion_europea_fd import opcion_europea_fd\n",
    "from Codigo.opcion_europea_bin import opcion_europea_bin\n",
    "\n",
    "import timeit"
   ]
  },
  {
   "cell_type": "markdown",
   "metadata": {},
   "source": [
    "### Corro cada uno de los pricers (les tomo el tiempo de ejecucion tambien)"
   ]
  },
  {
   "cell_type": "code",
   "execution_count": 74,
   "metadata": {},
   "outputs": [],
   "source": [
    "start = timeit.default_timer()\n",
    "precio_bs = opcion_europea_bs(tipo, S, K, T, r, sigma, div)\n",
    "end = timeit.default_timer()\n",
    "tiempo_bs = end - start\n",
    "\n",
    "\n",
    "start = timeit.default_timer()\n",
    "precio_bin = opcion_europea_bin(tipo, S, K, T, r, sigma, div, 5000)\n",
    "end = timeit.default_timer()\n",
    "tiempo_bin = end - start\n",
    "\n",
    "start = timeit.default_timer()\n",
    "precio_mc = opcion_europea_mc(tipo, S, K, T, r, sigma, div, 5000)\n",
    "end = timeit.default_timer()\n",
    "tiempo_mc = end - start\n",
    "\n",
    "start = timeit.default_timer()\n",
    "precio_fd = opcion_europea_fd(tipo, S, K, T, r, sigma, div)\n",
    "end = timeit.default_timer()\n",
    "tiempo_fd = end - start"
   ]
  },
  {
   "cell_type": "markdown",
   "metadata": {},
   "source": [
    "## Precios QuantLib"
   ]
  },
  {
   "cell_type": "markdown",
   "metadata": {},
   "source": [
    "### Seteo lo necesario en QuantLib"
   ]
  },
  {
   "cell_type": "code",
   "execution_count": 75,
   "metadata": {},
   "outputs": [],
   "source": [
    "payoff = ql.PlainVanillaPayoff(option_type, K)\n",
    "exercise = ql.EuropeanExercise(maturity_date)\n",
    "european_option = ql.VanillaOption(payoff, exercise)\n",
    "\n",
    "spot_obj = ql.QuoteHandle(ql.SimpleQuote(S))\n",
    "\n",
    "rate_obj = ql.YieldTermStructureHandle(ql.FlatForward(calculation_date, \n",
    "                                                            r, \n",
    "                                                    day_count))\n",
    "\n",
    "dividend_obj = ql.YieldTermStructureHandle(ql.FlatForward(calculation_date, \n",
    "                                                      div, \n",
    "                                                      day_count))\n",
    "\n",
    "vol_obj = ql.BlackVolTermStructureHandle(ql.BlackConstantVol(calculation_date, \n",
    "                                                                 calendar, \n",
    "                                                                 sigma, \n",
    "                                                             day_count))\n",
    "\n",
    "bsm_process = ql.BlackScholesMertonProcess(spot_obj, \n",
    "                                        dividend_obj, \n",
    "                                        rate_obj, \n",
    "                                        vol_obj)\n",
    "\n"
   ]
  },
  {
   "cell_type": "markdown",
   "metadata": {},
   "source": [
    "### Corro cada uno de los pricers (les tomo el tiempo de ejecucion tambien)"
   ]
  },
  {
   "cell_type": "code",
   "execution_count": 76,
   "metadata": {},
   "outputs": [],
   "source": [
    "\n",
    "start = timeit.default_timer()\n",
    "european_option.setPricingEngine(ql.AnalyticEuropeanEngine(bsm_process))\n",
    "bs_price = european_option.NPV()\n",
    "end = timeit.default_timer()\n",
    "time_bs = end - start\n",
    "\n",
    "start = timeit.default_timer()\n",
    "european_option.setPricingEngine(ql.FdBlackScholesVanillaEngine(bsm_process))\n",
    "fd_price = european_option.NPV()\n",
    "end = timeit.default_timer()\n",
    "time_fd = end - start\n",
    "\n",
    "start = timeit.default_timer()\n",
    "european_option.setPricingEngine(ql.MCEuropeanEngine(bsm_process, \"PseudoRandom\", timeSteps=20, requiredSamples=5000))\n",
    "mc_price = european_option.NPV()\n",
    "end = timeit.default_timer()\n",
    "time_mc = end - start\n",
    "\n",
    "start = timeit.default_timer()\n",
    "european_option.setPricingEngine(ql.BinomialVanillaEngine(bsm_process, \"crr\", 5000))\n",
    "bin_price = european_option.NPV()\n",
    "end = timeit.default_timer()\n",
    "time_bin = end - start\n",
    "\n"
   ]
  },
  {
   "cell_type": "markdown",
   "metadata": {},
   "source": [
    "### Imprimo TODO"
   ]
  },
  {
   "cell_type": "code",
   "execution_count": 77,
   "metadata": {},
   "outputs": [
    {
     "name": "stdout",
     "output_type": "stream",
     "text": [
      "Precio modelo Europea BS visto en clase: 12.335998930368717\n",
      "Tiempo modelo Europea BS visto en clase: 0.0010028999531641603\n",
      "Precio modelo Europea Binomial visto en clase: 12.33550453323051\n",
      "Tiempo modelo Europea Binomial visto en clase: 21.815073199919425\n",
      "Precio modelo Europea Montecarlo visto en clase: 12.351934333793016\n",
      "Tiempo modelo Europea Montecarlo visto en clase: 0.009887100080959499\n",
      "Precio modelo Europea Dif. Finitas visto en clase: 12.32673769241634\n",
      "Tiempo modelo Europea Dif. Finitas visto en clase: 0.5035893999738619\n",
      "Precio modelo Europea BS QuantLib 12.335998930368715\n",
      "Tiempo modelo Europea BS QuantLib: 0.00019179994706064463\n",
      "Precio modelo Europea Binomial QuantLib: 12.335493341380698\n",
      "Tiempo modelo Europea Binomial QuantLib: 0.08278149995021522\n",
      "Precio modelo Europea Montecarlo QuantLib: 12.492284556400225\n",
      "Tiempo modelo Europea Montecarlo QuantLib: 0.03234889998566359\n",
      "Precio modelo Europea Dif. Finitas QuantLib: 12.343995594762795\n",
      "Tiempo modelo Europea Dif. Finitas QuantLib: 0.0012247000122442842\n"
     ]
    }
   ],
   "source": [
    "print(\"Precio modelo Europea BS visto en clase:\", precio_bs)\n",
    "print(\"Tiempo modelo Europea BS visto en clase:\", tiempo_bs)\n",
    "\n",
    "print(\"Precio modelo Europea Binomial visto en clase:\", precio_bin)\n",
    "print(\"Tiempo modelo Europea Binomial visto en clase:\", tiempo_bin)\n",
    "\n",
    "print(\"Precio modelo Europea Montecarlo visto en clase:\", precio_mc)\n",
    "print(\"Tiempo modelo Europea Montecarlo visto en clase:\", tiempo_mc)\n",
    "\n",
    "print(\"Precio modelo Europea Dif. Finitas visto en clase:\", precio_fd)\n",
    "print(\"Tiempo modelo Europea Dif. Finitas visto en clase:\", tiempo_fd)\n",
    "\n",
    "\n",
    "print(\"Precio modelo Europea BS QuantLib\", bs_price)\n",
    "print(\"Tiempo modelo Europea BS QuantLib:\", time_bs)\n",
    "\n",
    "print(\"Precio modelo Europea Binomial QuantLib:\", bin_price)\n",
    "print(\"Tiempo modelo Europea Binomial QuantLib:\", time_bin)\n",
    "\n",
    "print(\"Precio modelo Europea Montecarlo QuantLib:\", mc_price)\n",
    "print(\"Tiempo modelo Europea Montecarlo QuantLib:\", time_mc)\n",
    "\n",
    "print(\"Precio modelo Europea Dif. Finitas QuantLib:\", fd_price)\n",
    "print(\"Tiempo modelo Europea Dif. Finitas QuantLib:\", time_fd)"
   ]
  },
  {
   "cell_type": "markdown",
   "metadata": {},
   "source": [
    "### Tabla de precios por modelo"
   ]
  },
  {
   "cell_type": "markdown",
   "metadata": {},
   "source": [
    "| Precio | Clase | QuantLib |\n",
    "| --- | --- | --- |\n",
    "| BS | 12.336 | 12.336 |\n",
    "| Binomial | 12.33355 | 12.33347 |\n",
    "| Montecarlo | _12.33747_ | _12.38694_ |\n",
    "| Dif.Finitas | 12.33380 | 12.34399 |"
   ]
  },
  {
   "cell_type": "markdown",
   "metadata": {},
   "source": [
    "### Tabla de tiempos de ejecucion por modelo**"
   ]
  },
  {
   "cell_type": "markdown",
   "metadata": {},
   "source": [
    "| Tiempo | Clase | QuantLib |\n",
    "| --- | --- | --- |\n",
    "| BS | **0.00033** | **0.00023** |\n",
    "| Binomial | 17.38176 | **0.06012** |\n",
    "| Montecarlo | **0.72694** | 3.03739 |\n",
    "| Dif.Finitas | 0.046359 | **0.001721** |"
   ]
  },
  {
   "cell_type": "markdown",
   "metadata": {},
   "source": [
    "### Opciones Americanas\n"
   ]
  },
  {
   "cell_type": "code",
   "execution_count": 78,
   "metadata": {},
   "outputs": [],
   "source": [
    "S = 100\n",
    "K = 100\n",
    "sigma = 0.25 # the historical vols for a year\n",
    "div =  0.0\n",
    "r = 0.05\n",
    "tipo = 'C'\n",
    "\n",
    "option_type = ql.Option.Put\n",
    "\n",
    "maturity_date = ql.Date(10, 8, 2021)\n",
    "calculation_date = ql.Date(10, 8, 2020)\n",
    "day_count = ql.Actual365Fixed()\n",
    "calendar = ql.UnitedStates()\n",
    "ql.Settings.instance().evaluationDate = calculation_date\n",
    "\n",
    "T = 1\n"
   ]
  },
  {
   "cell_type": "code",
   "execution_count": 79,
   "metadata": {},
   "outputs": [],
   "source": [
    "payoff = ql.PlainVanillaPayoff(option_type, K)\n",
    "\n",
    "am_exercise = ql.AmericanExercise(calculation_date, maturity_date)\n",
    "american_option = ql.VanillaOption(payoff, am_exercise)"
   ]
  },
  {
   "cell_type": "code",
   "execution_count": null,
   "metadata": {},
   "outputs": [],
   "source": []
  },
  {
   "cell_type": "code",
   "execution_count": 80,
   "metadata": {},
   "outputs": [],
   "source": [
    "spot_obj = ql.QuoteHandle(ql.SimpleQuote(S))\n",
    "\n",
    "rate_obj = ql.YieldTermStructureHandle(ql.FlatForward(calculation_date, \n",
    "                                                            r, \n",
    "                                                    day_count))\n",
    "\n",
    "dividend_obj = ql.YieldTermStructureHandle(ql.FlatForward(calculation_date, \n",
    "                                                      div, \n",
    "                                                      day_count))\n",
    "\n",
    "vol_obj = ql.BlackVolTermStructureHandle(ql.BlackConstantVol(calculation_date, \n",
    "                                                                 calendar, \n",
    "                                                                 sigma, \n",
    "                                                             day_count))\n",
    "\n",
    "bsm_process = ql.BlackScholesMertonProcess(spot_obj, \n",
    "                                        dividend_obj, \n",
    "                                        rate_obj, \n",
    "                                        vol_obj)"
   ]
  },
  {
   "cell_type": "code",
   "execution_count": 81,
   "metadata": {},
   "outputs": [],
   "source": [
    "# No hay Black Scholes\n",
    "american_option.setPricingEngine(ql.BinomialVanillaEngine(bsm_process, \"crr\", 1000))\n",
    "bin_price_ame = american_option.NPV()\n",
    "\n",
    "american_option.setPricingEngine(ql.FdBlackScholesVanillaEngine(bsm_process))\n",
    "fd_price_ame = american_option.NPV()\n",
    "\n",
    "american_option.setPricingEngine(ql.MCAmericanEngine(bsm_process, \"PseudoRandom\", timeSteps=20, requiredSamples=500000))\n",
    "mc_price_ame = american_option.NPV()\n",
    "\n"
   ]
  },
  {
   "cell_type": "code",
   "execution_count": 82,
   "metadata": {},
   "outputs": [
    {
     "ename": "RuntimeError",
     "evalue": "not an European option",
     "output_type": "error",
     "traceback": [
      "\u001b[1;31m---------------------------------------------------------------------------\u001b[0m",
      "\u001b[1;31mRuntimeError\u001b[0m                              Traceback (most recent call last)",
      "\u001b[1;32mc:\\Users\\manue\\OneDrive\\Documents\\finanzasCuantitativas\\Notebooks\\Derivados_Financieros_Clase5.ipynb Cell 109\u001b[0m in \u001b[0;36m<cell line: 2>\u001b[1;34m()\u001b[0m\n\u001b[0;32m      <a href='vscode-notebook-cell:/c%3A/Users/manue/OneDrive/Documents/finanzasCuantitativas/Notebooks/Derivados_Financieros_Clase5.ipynb#Y213sZmlsZQ%3D%3D?line=0'>1</a>\u001b[0m american_option\u001b[39m.\u001b[39msetPricingEngine(ql\u001b[39m.\u001b[39mAnalyticEuropeanEngine(bsm_process))\n\u001b[1;32m----> <a href='vscode-notebook-cell:/c%3A/Users/manue/OneDrive/Documents/finanzasCuantitativas/Notebooks/Derivados_Financieros_Clase5.ipynb#Y213sZmlsZQ%3D%3D?line=1'>2</a>\u001b[0m bin_price_ame \u001b[39m=\u001b[39m american_option\u001b[39m.\u001b[39;49mNPV()\n",
      "File \u001b[1;32m~\\AppData\\Local\\Packages\\PythonSoftwareFoundation.Python.3.10_qbz5n2kfra8p0\\LocalCache\\local-packages\\Python310\\site-packages\\QuantLib\\QuantLib.py:9673\u001b[0m, in \u001b[0;36mInstrument.NPV\u001b[1;34m(self)\u001b[0m\n\u001b[0;32m   9672\u001b[0m \u001b[39mdef\u001b[39;00m \u001b[39mNPV\u001b[39m(\u001b[39mself\u001b[39m):\n\u001b[1;32m-> 9673\u001b[0m     \u001b[39mreturn\u001b[39;00m _QuantLib\u001b[39m.\u001b[39;49mInstrument_NPV(\u001b[39mself\u001b[39;49m)\n",
      "\u001b[1;31mRuntimeError\u001b[0m: not an European option"
     ]
    }
   ],
   "source": [
    "american_option.setPricingEngine(ql.AnalyticEuropeanEngine(bsm_process))\n",
    "bin_price_ame = american_option.NPV()"
   ]
  },
  {
   "cell_type": "code",
   "execution_count": 83,
   "metadata": {},
   "outputs": [],
   "source": [
    "from Codigo.opcion_americana_bin import opcion_americana_bin\n",
    "from Codigo.opcion_americana_fd import opcion_americana_fd"
   ]
  },
  {
   "cell_type": "code",
   "execution_count": 84,
   "metadata": {},
   "outputs": [],
   "source": [
    "tipo = \"P\"\n",
    "precio_bin_ame = opcion_americana_bin(tipo, S, K, T, r, sigma, div, 1000)\n",
    "precio_fd_ame = opcion_americana_fd(tipo, S, K, T, r, sigma, div)\n"
   ]
  },
  {
   "cell_type": "code",
   "execution_count": 85,
   "metadata": {},
   "outputs": [
    {
     "name": "stdout",
     "output_type": "stream",
     "text": [
      "Precio modelo Amercana Binomial visto en clase: 7.973040110898395\n",
      "Precio modelo Amercana Dif. Finitas visto en clase: 8.076404881004764\n",
      "Precio modelo Amercana Binomial QuantLib: 7.973463892545318\n",
      "Precio modelo Amercana Montecarlo QuantLib: 7.839081658384568\n",
      "Precio modelo Amercana Dif. FinitasQuantLib: 7.966283110785785\n"
     ]
    }
   ],
   "source": [
    "print(\"Precio modelo Amercana Binomial visto en clase:\", precio_bin_ame)\n",
    "print(\"Precio modelo Amercana Dif. Finitas visto en clase:\", precio_fd_ame)\n",
    "\n",
    "print(\"Precio modelo Amercana Binomial QuantLib:\", bin_price_ame)\n",
    "print(\"Precio modelo Amercana Montecarlo QuantLib:\", mc_price_ame)\n",
    "print(\"Precio modelo Amercana Dif. FinitasQuantLib:\", fd_price_ame)"
   ]
  }
 ],
 "metadata": {
  "kernelspec": {
   "display_name": "Python 3.10.5 64-bit (windows store)",
   "language": "python",
   "name": "python3"
  },
  "language_info": {
   "codemirror_mode": {
    "name": "ipython",
    "version": 3
   },
   "file_extension": ".py",
   "mimetype": "text/x-python",
   "name": "python",
   "nbconvert_exporter": "python",
   "pygments_lexer": "ipython3",
   "version": "3.10.5"
  },
  "vscode": {
   "interpreter": {
    "hash": "e2a6dae1680d5d703b715907ac46bd7a3965acafb3f09cc0a45412b83daff840"
   }
  }
 },
 "nbformat": 4,
 "nbformat_minor": 1
}
