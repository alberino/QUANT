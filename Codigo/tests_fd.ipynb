{
 "cells": [
  {
   "cell_type": "code",
   "execution_count": 1,
   "metadata": {},
   "outputs": [],
   "source": [
    "import QuantLib as ql\n",
    "\n",
    "precio_activo = 440 #Spot (S)\n",
    "precio_ejercicio = 450 #Strike (K)\n",
    "volatilidad = 0.3394  #Volatilidad Implicita anualizada (sigma)\n",
    "tasa_interes = 0.0013 #tasa libre de riesgo anualizada (r)\n",
    "tasa_dividendos =  0.075 #tasa de dividendos anualizada (q)\n",
    "\n",
    "#Expiracion el 16 de octubre de 2020\n",
    "fecha_expiracion = ql.Date(6, 8, 2021)\n",
    "\n",
    "#Valuacion el 16 de octubre de 2020\n",
    "fecha_valuacion = ql.Date(6, 8, 2020)\n",
    "ql.Settings.instance().evaluationDate = fecha_valuacion\n",
    "\n",
    "#Calendario y convencion de daycount\n",
    "day_count = ql.Actual365Fixed()\n",
    "calendario = ql.UnitedStates()\n",
    "\n",
    "\n",
    "tipo_opcion = ql.Option.Call #Tipo de opcion (CALL o PUT)\n",
    "payoff = ql.PlainVanillaPayoff(tipo_opcion, precio_ejercicio)\n",
    "ejercicio_europeo = ql.EuropeanExercise(fecha_expiracion)\n",
    "\n",
    "\n",
    "opcion_europea = ql.VanillaOption(payoff, ejercicio_europeo)\n",
    "\n",
    "objeto_spot = ql.QuoteHandle(ql.SimpleQuote(precio_activo))\n",
    "\n",
    "objeto_tasa_interes = ql.YieldTermStructureHandle(ql.FlatForward(fecha_valuacion, \n",
    "                                                                tasa_interes, \n",
    "                                                                day_count))\n",
    "\n",
    "tasa_recup = objeto_tasa_interes.forwardRate(fecha_valuacion, fecha_expiracion, day_count, ql.Continuous).rate()\n",
    "\n",
    "objeto_tasa_dividendos = ql.YieldTermStructureHandle(ql.FlatForward(fecha_valuacion, \n",
    "                                                      tasa_dividendos, \n",
    "                                                      day_count))\n",
    "div_recup = objeto_tasa_dividendos.forwardRate(fecha_valuacion, fecha_expiracion, day_count, ql.Continuous).rate()\n",
    "\n",
    "objeto_volatilidad = ql.BlackVolTermStructureHandle(ql.BlackConstantVol(fecha_valuacion, \n",
    "                                                                 calendario, \n",
    "                                                                 volatilidad, \n",
    "                                                             day_count))\n",
    "vol_recup = objeto_volatilidad.blackVol(fecha_expiracion, precio_ejercicio)\n",
    "\n",
    "proceso_BSM = ql.BlackScholesMertonProcess(objeto_spot, \n",
    "                                           objeto_tasa_dividendos, \n",
    "                                           objeto_tasa_interes, \n",
    "                                           objeto_volatilidad)\n",
    "\n"
   ]
  },
  {
   "cell_type": "markdown",
   "metadata": {},
   "source": [
    "## Black Sholes QuantLib\n"
   ]
  },
  {
   "cell_type": "code",
   "execution_count": 2,
   "metadata": {},
   "outputs": [
    {
     "name": "stdout",
     "output_type": "stream",
     "text": [
      "El precio teorico usando el modelo de BS es:  39.46009202020682\n"
     ]
    }
   ],
   "source": [
    "modelo_BS = ql.AnalyticEuropeanEngine(proceso_BSM)\n",
    "\n",
    "opcion_europea.setPricingEngine(modelo_BS)\n",
    "\n",
    "precio_opcion_BS = opcion_europea.NPV()\n",
    "\n",
    "print(\"El precio teorico usando el modelo de BS es: \", precio_opcion_BS)"
   ]
  },
  {
   "cell_type": "markdown",
   "metadata": {},
   "source": [
    "## FD QuantLib\n"
   ]
  },
  {
   "cell_type": "code",
   "execution_count": 3,
   "metadata": {},
   "outputs": [
    {
     "name": "stdout",
     "output_type": "stream",
     "text": [
      "El precio teorico usando el modelo de Dif. Finitas (ql) es:  39.47637917085886\n"
     ]
    }
   ],
   "source": [
    "tGrid = 100\n",
    "xGrid = 100\n",
    "dampingSteps = 0\n",
    "esquema_df = ql.FdmSchemeDesc.MethodOfLines()\n",
    "\n",
    "modelo_DF = ql.FdBlackScholesVanillaEngine(proceso_BSM, \n",
    "                                           tGrid, \n",
    "                                           xGrid,\n",
    "                                           dampingSteps,\n",
    "                                           esquema_df)\n",
    "\n",
    "opcion_europea.setPricingEngine(modelo_DF)\n",
    "\n",
    "precio_opcion_DF_ql = opcion_europea.NPV()\n",
    "\n",
    "print(\"El precio teorico usando el modelo de Dif. Finitas (ql) es: \", precio_opcion_DF_ql)"
   ]
  },
  {
   "cell_type": "markdown",
   "metadata": {},
   "source": [
    "## Modelos FD Manu "
   ]
  },
  {
   "cell_type": "code",
   "execution_count": 4,
   "metadata": {},
   "outputs": [],
   "source": [
    "from opcion_europea_fd import opcion_europea_fd as fd\n",
    "\n",
    "\n",
    "T = 1\n",
    "tipo = \"C\"\n",
    "\n",
    "M = 160\n",
    "\n"
   ]
  },
  {
   "cell_type": "code",
   "execution_count": 5,
   "metadata": {},
   "outputs": [
    {
     "name": "stdout",
     "output_type": "stream",
     "text": [
      "El precio teorico usando el modelo de Dif. Finitas (manu) es:  39.455269474163075\n"
     ]
    }
   ],
   "source": [
    "precio_opcion_DF_manu = fd(tipo,precio_activo,precio_ejercicio,T,tasa_interes,volatilidad,tasa_dividendos, M)\n",
    "\n",
    "\n",
    "print(\"El precio teorico usando el modelo de Dif. Finitas (manu) es: \", precio_opcion_DF_manu)"
   ]
  },
  {
   "cell_type": "code",
   "execution_count": 16,
   "metadata": {},
   "outputs": [
    {
     "name": "stdout",
     "output_type": "stream",
     "text": [
      "August 14th, 2022\n"
     ]
    }
   ],
   "source": [
    "import QuantLib as ql\n",
    "\n",
    "T = 63\n",
    "fecha_valuacion = ql.Date(6, 8, 2022)\n",
    "ql.Settings.instance().evaluationDate = fecha_valuacion\n",
    "period = str(T)+\"D\"\n",
    "calendario = ql.UnitedStates()\n",
    "fecha_expiracion = calendario.advance(fecha_valuacion,ql.Period(period))\n",
    "day_count = ql.Actual365Fixed()\n",
    "\n",
    "#print(fecha_expiracion)\n",
    "\n",
    "aaa = ql.Date(6, 8, 2022) + 8\n",
    "\n",
    "print(aaa)\n"
   ]
  }
 ],
 "metadata": {
  "kernelspec": {
   "display_name": "Python 3.10.5 64-bit (windows store)",
   "language": "python",
   "name": "python3"
  },
  "language_info": {
   "codemirror_mode": {
    "name": "ipython",
    "version": 3
   },
   "file_extension": ".py",
   "mimetype": "text/x-python",
   "name": "python",
   "nbconvert_exporter": "python",
   "pygments_lexer": "ipython3",
   "version": "3.10.5"
  },
  "orig_nbformat": 4,
  "vscode": {
   "interpreter": {
    "hash": "e2a6dae1680d5d703b715907ac46bd7a3965acafb3f09cc0a45412b83daff840"
   }
  }
 },
 "nbformat": 4,
 "nbformat_minor": 2
}
